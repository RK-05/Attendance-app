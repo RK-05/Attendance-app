{
  "nbformat": 4,
  "nbformat_minor": 0,
  "metadata": {
    "colab": {
      "name": "Attendance-App.ipynb",
      "provenance": [],
      "collapsed_sections": [
        "cpGanubJl8Ug"
      ],
      "mount_file_id": "1YXr06ogtiuYNWcp8dsuVeSNzcWw4ORZD",
      "authorship_tag": "ABX9TyODWepGDh/RBB4itGTaMo59",
      "include_colab_link": true
    },
    "kernelspec": {
      "name": "python3",
      "display_name": "Python 3"
    },
    "widgets": {
      "application/vnd.jupyter.widget-state+json": {
        "13729db865d140ea8185140bc7b9b291": {
          "model_module": "@jupyter-widgets/controls",
          "model_name": "HBoxModel",
          "state": {
            "_view_name": "HBoxView",
            "_dom_classes": [],
            "_model_name": "HBoxModel",
            "_view_module": "@jupyter-widgets/controls",
            "_model_module_version": "1.5.0",
            "_view_count": null,
            "_view_module_version": "1.5.0",
            "box_style": "",
            "layout": "IPY_MODEL_16936f6acd374b99b827d9ff909af9e5",
            "_model_module": "@jupyter-widgets/controls",
            "children": [
              "IPY_MODEL_99291eaf04494ec184762ad61ad13415",
              "IPY_MODEL_3be9a4c3489d4261881f7dab2236e09b"
            ]
          }
        },
        "16936f6acd374b99b827d9ff909af9e5": {
          "model_module": "@jupyter-widgets/base",
          "model_name": "LayoutModel",
          "state": {
            "_view_name": "LayoutView",
            "grid_template_rows": null,
            "right": null,
            "justify_content": null,
            "_view_module": "@jupyter-widgets/base",
            "overflow": null,
            "_model_module_version": "1.2.0",
            "_view_count": null,
            "flex_flow": null,
            "width": null,
            "min_width": null,
            "border": null,
            "align_items": null,
            "bottom": null,
            "_model_module": "@jupyter-widgets/base",
            "top": null,
            "grid_column": null,
            "overflow_y": null,
            "overflow_x": null,
            "grid_auto_flow": null,
            "grid_area": null,
            "grid_template_columns": null,
            "flex": null,
            "_model_name": "LayoutModel",
            "justify_items": null,
            "grid_row": null,
            "max_height": null,
            "align_content": null,
            "visibility": null,
            "align_self": null,
            "height": null,
            "min_height": null,
            "padding": null,
            "grid_auto_rows": null,
            "grid_gap": null,
            "max_width": null,
            "order": null,
            "_view_module_version": "1.2.0",
            "grid_template_areas": null,
            "object_position": null,
            "object_fit": null,
            "grid_auto_columns": null,
            "margin": null,
            "display": null,
            "left": null
          }
        },
        "99291eaf04494ec184762ad61ad13415": {
          "model_module": "@jupyter-widgets/controls",
          "model_name": "FloatProgressModel",
          "state": {
            "_view_name": "ProgressView",
            "style": "IPY_MODEL_5523eaf84a0f49c0a782bed1aeb1e8ea",
            "_dom_classes": [],
            "description": "100%",
            "_model_name": "FloatProgressModel",
            "bar_style": "success",
            "max": 111898327,
            "_view_module": "@jupyter-widgets/controls",
            "_model_module_version": "1.5.0",
            "value": 111898327,
            "_view_count": null,
            "_view_module_version": "1.5.0",
            "orientation": "horizontal",
            "min": 0,
            "description_tooltip": null,
            "_model_module": "@jupyter-widgets/controls",
            "layout": "IPY_MODEL_c9274b02aaa84c928652e269bb5aa04d"
          }
        },
        "3be9a4c3489d4261881f7dab2236e09b": {
          "model_module": "@jupyter-widgets/controls",
          "model_name": "HTMLModel",
          "state": {
            "_view_name": "HTMLView",
            "style": "IPY_MODEL_3a0ba025a71244f9bbe9c3f6008d7a8a",
            "_dom_classes": [],
            "description": "",
            "_model_name": "HTMLModel",
            "placeholder": "​",
            "_view_module": "@jupyter-widgets/controls",
            "_model_module_version": "1.5.0",
            "value": " 107M/107M [00:03&lt;00:00, 30.1MB/s]",
            "_view_count": null,
            "_view_module_version": "1.5.0",
            "description_tooltip": null,
            "_model_module": "@jupyter-widgets/controls",
            "layout": "IPY_MODEL_8e002a2af105406bb023c215251a09f7"
          }
        },
        "5523eaf84a0f49c0a782bed1aeb1e8ea": {
          "model_module": "@jupyter-widgets/controls",
          "model_name": "ProgressStyleModel",
          "state": {
            "_view_name": "StyleView",
            "_model_name": "ProgressStyleModel",
            "description_width": "initial",
            "_view_module": "@jupyter-widgets/base",
            "_model_module_version": "1.5.0",
            "_view_count": null,
            "_view_module_version": "1.2.0",
            "bar_color": null,
            "_model_module": "@jupyter-widgets/controls"
          }
        },
        "c9274b02aaa84c928652e269bb5aa04d": {
          "model_module": "@jupyter-widgets/base",
          "model_name": "LayoutModel",
          "state": {
            "_view_name": "LayoutView",
            "grid_template_rows": null,
            "right": null,
            "justify_content": null,
            "_view_module": "@jupyter-widgets/base",
            "overflow": null,
            "_model_module_version": "1.2.0",
            "_view_count": null,
            "flex_flow": null,
            "width": null,
            "min_width": null,
            "border": null,
            "align_items": null,
            "bottom": null,
            "_model_module": "@jupyter-widgets/base",
            "top": null,
            "grid_column": null,
            "overflow_y": null,
            "overflow_x": null,
            "grid_auto_flow": null,
            "grid_area": null,
            "grid_template_columns": null,
            "flex": null,
            "_model_name": "LayoutModel",
            "justify_items": null,
            "grid_row": null,
            "max_height": null,
            "align_content": null,
            "visibility": null,
            "align_self": null,
            "height": null,
            "min_height": null,
            "padding": null,
            "grid_auto_rows": null,
            "grid_gap": null,
            "max_width": null,
            "order": null,
            "_view_module_version": "1.2.0",
            "grid_template_areas": null,
            "object_position": null,
            "object_fit": null,
            "grid_auto_columns": null,
            "margin": null,
            "display": null,
            "left": null
          }
        },
        "3a0ba025a71244f9bbe9c3f6008d7a8a": {
          "model_module": "@jupyter-widgets/controls",
          "model_name": "DescriptionStyleModel",
          "state": {
            "_view_name": "StyleView",
            "_model_name": "DescriptionStyleModel",
            "description_width": "",
            "_view_module": "@jupyter-widgets/base",
            "_model_module_version": "1.5.0",
            "_view_count": null,
            "_view_module_version": "1.2.0",
            "_model_module": "@jupyter-widgets/controls"
          }
        },
        "8e002a2af105406bb023c215251a09f7": {
          "model_module": "@jupyter-widgets/base",
          "model_name": "LayoutModel",
          "state": {
            "_view_name": "LayoutView",
            "grid_template_rows": null,
            "right": null,
            "justify_content": null,
            "_view_module": "@jupyter-widgets/base",
            "overflow": null,
            "_model_module_version": "1.2.0",
            "_view_count": null,
            "flex_flow": null,
            "width": null,
            "min_width": null,
            "border": null,
            "align_items": null,
            "bottom": null,
            "_model_module": "@jupyter-widgets/base",
            "top": null,
            "grid_column": null,
            "overflow_y": null,
            "overflow_x": null,
            "grid_auto_flow": null,
            "grid_area": null,
            "grid_template_columns": null,
            "flex": null,
            "_model_name": "LayoutModel",
            "justify_items": null,
            "grid_row": null,
            "max_height": null,
            "align_content": null,
            "visibility": null,
            "align_self": null,
            "height": null,
            "min_height": null,
            "padding": null,
            "grid_auto_rows": null,
            "grid_gap": null,
            "max_width": null,
            "order": null,
            "_view_module_version": "1.2.0",
            "grid_template_areas": null,
            "object_position": null,
            "object_fit": null,
            "grid_auto_columns": null,
            "margin": null,
            "display": null,
            "left": null
          }
        }
      }
    }
  },
  "cells": [
    {
      "cell_type": "markdown",
      "metadata": {
        "id": "view-in-github",
        "colab_type": "text"
      },
      "source": [
        "<a href=\"https://colab.research.google.com/github/RK-05/Attendance-app/blob/main/Attendance_App.ipynb\" target=\"_parent\"><img src=\"https://colab.research.google.com/assets/colab-badge.svg\" alt=\"Open In Colab\"/></a>"
      ]
    },
    {
      "cell_type": "markdown",
      "metadata": {
        "id": "cpGanubJl8Ug"
      },
      "source": [
        "# ***packages and imports***"
      ]
    },
    {
      "cell_type": "code",
      "metadata": {
        "id": "EwHIHfeQl2ib",
        "colab": {
          "base_uri": "https://localhost:8080/"
        },
        "outputId": "47a34477-f31a-40e2-8360-d6cac87c5140"
      },
      "source": [
        "!pip install facenet-pytorch"
      ],
      "execution_count": null,
      "outputs": [
        {
          "output_type": "stream",
          "text": [
            "Collecting facenet-pytorch\n",
            "\u001b[?25l  Downloading https://files.pythonhosted.org/packages/e9/e9/9dee8c3924478283d0f29c7b36b9d000a4e6928c00d8108e66df494218e6/facenet_pytorch-2.5.1-py3-none-any.whl (1.9MB)\n",
            "\u001b[K     |████████████████████████████████| 1.9MB 8.1MB/s \n",
            "\u001b[?25hRequirement already satisfied: requests in /usr/local/lib/python3.6/dist-packages (from facenet-pytorch) (2.23.0)\n",
            "Requirement already satisfied: pillow in /usr/local/lib/python3.6/dist-packages (from facenet-pytorch) (7.0.0)\n",
            "Requirement already satisfied: torchvision in /usr/local/lib/python3.6/dist-packages (from facenet-pytorch) (0.8.1+cu101)\n",
            "Requirement already satisfied: numpy in /usr/local/lib/python3.6/dist-packages (from facenet-pytorch) (1.19.4)\n",
            "Requirement already satisfied: urllib3!=1.25.0,!=1.25.1,<1.26,>=1.21.1 in /usr/local/lib/python3.6/dist-packages (from requests->facenet-pytorch) (1.24.3)\n",
            "Requirement already satisfied: chardet<4,>=3.0.2 in /usr/local/lib/python3.6/dist-packages (from requests->facenet-pytorch) (3.0.4)\n",
            "Requirement already satisfied: idna<3,>=2.5 in /usr/local/lib/python3.6/dist-packages (from requests->facenet-pytorch) (2.10)\n",
            "Requirement already satisfied: certifi>=2017.4.17 in /usr/local/lib/python3.6/dist-packages (from requests->facenet-pytorch) (2020.12.5)\n",
            "Requirement already satisfied: torch==1.7.0 in /usr/local/lib/python3.6/dist-packages (from torchvision->facenet-pytorch) (1.7.0+cu101)\n",
            "Requirement already satisfied: dataclasses in /usr/local/lib/python3.6/dist-packages (from torch==1.7.0->torchvision->facenet-pytorch) (0.8)\n",
            "Requirement already satisfied: typing-extensions in /usr/local/lib/python3.6/dist-packages (from torch==1.7.0->torchvision->facenet-pytorch) (3.7.4.3)\n",
            "Requirement already satisfied: future in /usr/local/lib/python3.6/dist-packages (from torch==1.7.0->torchvision->facenet-pytorch) (0.16.0)\n",
            "Installing collected packages: facenet-pytorch\n",
            "Successfully installed facenet-pytorch-2.5.1\n"
          ],
          "name": "stdout"
        }
      ]
    },
    {
      "cell_type": "code",
      "metadata": {
        "id": "wmG26GrzmIqF"
      },
      "source": [
        "from facenet_pytorch import MTCNN, InceptionResnetV1"
      ],
      "execution_count": null,
      "outputs": []
    },
    {
      "cell_type": "code",
      "metadata": {
        "id": "ETEf43pkmLn2",
        "colab": {
          "base_uri": "https://localhost:8080/",
          "referenced_widgets": [
            "13729db865d140ea8185140bc7b9b291",
            "16936f6acd374b99b827d9ff909af9e5",
            "99291eaf04494ec184762ad61ad13415",
            "3be9a4c3489d4261881f7dab2236e09b",
            "5523eaf84a0f49c0a782bed1aeb1e8ea",
            "c9274b02aaa84c928652e269bb5aa04d",
            "3a0ba025a71244f9bbe9c3f6008d7a8a",
            "8e002a2af105406bb023c215251a09f7"
          ]
        },
        "outputId": "b8278e5a-908d-4633-bb35-816dff63883e"
      },
      "source": [
        "mtcnn = MTCNN()\n",
        "resnet = InceptionResnetV1(pretrained='vggface2').eval()"
      ],
      "execution_count": null,
      "outputs": [
        {
          "output_type": "display_data",
          "data": {
            "application/vnd.jupyter.widget-view+json": {
              "model_id": "13729db865d140ea8185140bc7b9b291",
              "version_minor": 0,
              "version_major": 2
            },
            "text/plain": [
              "HBox(children=(FloatProgress(value=0.0, max=111898327.0), HTML(value='')))"
            ]
          },
          "metadata": {
            "tags": []
          }
        },
        {
          "output_type": "stream",
          "text": [
            "\n"
          ],
          "name": "stdout"
        }
      ]
    },
    {
      "cell_type": "code",
      "metadata": {
        "id": "MrbO9LMFmOY3"
      },
      "source": [
        "import pandas as pd\n",
        "from PIL import Image\n",
        "import cv2"
      ],
      "execution_count": null,
      "outputs": []
    },
    {
      "cell_type": "code",
      "metadata": {
        "id": "JZ3sjFl7mRxb"
      },
      "source": [
        "from scipy.spatial.distance import cosine\n"
      ],
      "execution_count": null,
      "outputs": []
    },
    {
      "cell_type": "code",
      "metadata": {
        "id": "7jKaCAoLmmg8",
        "colab": {
          "base_uri": "https://localhost:8080/"
        },
        "outputId": "cca2da64-8a4a-42dc-cfd1-bd99fa8ef262"
      },
      "source": [
        "!pip install flask-ngrok\n",
        "from flask_ngrok import run_with_ngrok"
      ],
      "execution_count": null,
      "outputs": [
        {
          "output_type": "stream",
          "text": [
            "Collecting flask-ngrok\n",
            "  Downloading https://files.pythonhosted.org/packages/af/6c/f54cb686ad1129e27d125d182f90f52b32f284e6c8df58c1bae54fa1adbc/flask_ngrok-0.0.25-py3-none-any.whl\n",
            "Requirement already satisfied: requests in /usr/local/lib/python3.6/dist-packages (from flask-ngrok) (2.23.0)\n",
            "Requirement already satisfied: Flask>=0.8 in /usr/local/lib/python3.6/dist-packages (from flask-ngrok) (1.1.2)\n",
            "Requirement already satisfied: urllib3!=1.25.0,!=1.25.1,<1.26,>=1.21.1 in /usr/local/lib/python3.6/dist-packages (from requests->flask-ngrok) (1.24.3)\n",
            "Requirement already satisfied: idna<3,>=2.5 in /usr/local/lib/python3.6/dist-packages (from requests->flask-ngrok) (2.10)\n",
            "Requirement already satisfied: certifi>=2017.4.17 in /usr/local/lib/python3.6/dist-packages (from requests->flask-ngrok) (2020.12.5)\n",
            "Requirement already satisfied: chardet<4,>=3.0.2 in /usr/local/lib/python3.6/dist-packages (from requests->flask-ngrok) (3.0.4)\n",
            "Requirement already satisfied: click>=5.1 in /usr/local/lib/python3.6/dist-packages (from Flask>=0.8->flask-ngrok) (7.1.2)\n",
            "Requirement already satisfied: itsdangerous>=0.24 in /usr/local/lib/python3.6/dist-packages (from Flask>=0.8->flask-ngrok) (1.1.0)\n",
            "Requirement already satisfied: Jinja2>=2.10.1 in /usr/local/lib/python3.6/dist-packages (from Flask>=0.8->flask-ngrok) (2.11.2)\n",
            "Requirement already satisfied: Werkzeug>=0.15 in /usr/local/lib/python3.6/dist-packages (from Flask>=0.8->flask-ngrok) (1.0.1)\n",
            "Requirement already satisfied: MarkupSafe>=0.23 in /usr/local/lib/python3.6/dist-packages (from Jinja2>=2.10.1->Flask>=0.8->flask-ngrok) (1.1.1)\n",
            "Installing collected packages: flask-ngrok\n",
            "Successfully installed flask-ngrok-0.0.25\n"
          ],
          "name": "stdout"
        }
      ]
    },
    {
      "cell_type": "code",
      "metadata": {
        "id": "dOxyPLZumm4r",
        "colab": {
          "base_uri": "https://localhost:8080/"
        },
        "outputId": "4f2035b1-4a62-4a9a-b1ff-41ad79939483"
      },
      "source": [
        "!pip install werkzeug \n",
        "from werkzeug.utils import secure_filename\n"
      ],
      "execution_count": null,
      "outputs": [
        {
          "output_type": "stream",
          "text": [
            "Requirement already satisfied: werkzeug in /usr/local/lib/python3.6/dist-packages (1.0.1)\n"
          ],
          "name": "stdout"
        }
      ]
    },
    {
      "cell_type": "code",
      "metadata": {
        "id": "rzxmMu3lmqGC",
        "colab": {
          "base_uri": "https://localhost:8080/"
        },
        "outputId": "103556d5-e7df-47cb-d28c-75ead3a50cb6"
      },
      "source": [
        "pip install flask_table"
      ],
      "execution_count": null,
      "outputs": [
        {
          "output_type": "stream",
          "text": [
            "Collecting flask_table\n",
            "  Downloading https://files.pythonhosted.org/packages/5c/f8/c8680277a8a0170d6f4c170dc4525f7869134021549eb84b116a75a24b15/Flask-Table-0.5.0.tar.gz\n",
            "Requirement already satisfied: Flask in /usr/local/lib/python3.6/dist-packages (from flask_table) (1.1.2)\n",
            "Collecting Flask-Babel\n",
            "  Downloading https://files.pythonhosted.org/packages/ab/3e/02331179ffab8b79e0383606a028b6a60fb1b4419b84935edd43223406a0/Flask_Babel-2.0.0-py3-none-any.whl\n",
            "Requirement already satisfied: click>=5.1 in /usr/local/lib/python3.6/dist-packages (from Flask->flask_table) (7.1.2)\n",
            "Requirement already satisfied: Jinja2>=2.10.1 in /usr/local/lib/python3.6/dist-packages (from Flask->flask_table) (2.11.2)\n",
            "Requirement already satisfied: itsdangerous>=0.24 in /usr/local/lib/python3.6/dist-packages (from Flask->flask_table) (1.1.0)\n",
            "Requirement already satisfied: Werkzeug>=0.15 in /usr/local/lib/python3.6/dist-packages (from Flask->flask_table) (1.0.1)\n",
            "Requirement already satisfied: Babel>=2.3 in /usr/local/lib/python3.6/dist-packages (from Flask-Babel->flask_table) (2.9.0)\n",
            "Requirement already satisfied: pytz in /usr/local/lib/python3.6/dist-packages (from Flask-Babel->flask_table) (2018.9)\n",
            "Requirement already satisfied: MarkupSafe>=0.23 in /usr/local/lib/python3.6/dist-packages (from Jinja2>=2.10.1->Flask->flask_table) (1.1.1)\n",
            "Building wheels for collected packages: flask-table\n",
            "  Building wheel for flask-table (setup.py) ... \u001b[?25l\u001b[?25hdone\n",
            "  Created wheel for flask-table: filename=Flask_Table-0.5.0-cp36-none-any.whl size=13959 sha256=a1ca6f9468d96fccb20e6c30b0fc105e231acf66058d19d76fc5a29361b24cea\n",
            "  Stored in directory: /root/.cache/pip/wheels/09/bf/ed/f9217c8e82c1652c73420d49e6b2a42d404fe2fdb579adf948\n",
            "Successfully built flask-table\n",
            "Installing collected packages: Flask-Babel, flask-table\n",
            "Successfully installed Flask-Babel-2.0.0 flask-table-0.5.0\n"
          ],
          "name": "stdout"
        }
      ]
    },
    {
      "cell_type": "code",
      "metadata": {
        "id": "CXYEw-M4msPr"
      },
      "source": [
        "import os"
      ],
      "execution_count": null,
      "outputs": []
    },
    {
      "cell_type": "code",
      "metadata": {
        "id": "CzazO_xgmvQ3",
        "colab": {
          "base_uri": "https://localhost:8080/"
        },
        "outputId": "3c574335-eab3-4033-f5ed-a2df2269a715"
      },
      "source": [
        "!pip install pytz"
      ],
      "execution_count": null,
      "outputs": [
        {
          "output_type": "stream",
          "text": [
            "Requirement already satisfied: pytz in /usr/local/lib/python3.6/dist-packages (2018.9)\n"
          ],
          "name": "stdout"
        }
      ]
    },
    {
      "cell_type": "code",
      "metadata": {
        "id": "bUT7sTSZmxKy",
        "colab": {
          "base_uri": "https://localhost:8080/"
        },
        "outputId": "a2e403fd-717e-46cb-bf3b-f6dc5c1bd131"
      },
      "source": [
        "!pip install flask_sqlalchemy"
      ],
      "execution_count": null,
      "outputs": [
        {
          "output_type": "stream",
          "text": [
            "Collecting flask_sqlalchemy\n",
            "  Downloading https://files.pythonhosted.org/packages/af/4b/3dd83c3e2c6e3034b804d971952e0120606506f153990cc56d2d33173b72/Flask_SQLAlchemy-2.4.4-py2.py3-none-any.whl\n",
            "Requirement already satisfied: SQLAlchemy>=0.8.0 in /usr/local/lib/python3.6/dist-packages (from flask_sqlalchemy) (1.3.20)\n",
            "Requirement already satisfied: Flask>=0.10 in /usr/local/lib/python3.6/dist-packages (from flask_sqlalchemy) (1.1.2)\n",
            "Requirement already satisfied: Werkzeug>=0.15 in /usr/local/lib/python3.6/dist-packages (from Flask>=0.10->flask_sqlalchemy) (1.0.1)\n",
            "Requirement already satisfied: itsdangerous>=0.24 in /usr/local/lib/python3.6/dist-packages (from Flask>=0.10->flask_sqlalchemy) (1.1.0)\n",
            "Requirement already satisfied: Jinja2>=2.10.1 in /usr/local/lib/python3.6/dist-packages (from Flask>=0.10->flask_sqlalchemy) (2.11.2)\n",
            "Requirement already satisfied: click>=5.1 in /usr/local/lib/python3.6/dist-packages (from Flask>=0.10->flask_sqlalchemy) (7.1.2)\n",
            "Requirement already satisfied: MarkupSafe>=0.23 in /usr/local/lib/python3.6/dist-packages (from Jinja2>=2.10.1->Flask>=0.10->flask_sqlalchemy) (1.1.1)\n",
            "Installing collected packages: flask-sqlalchemy\n",
            "Successfully installed flask-sqlalchemy-2.4.4\n"
          ],
          "name": "stdout"
        }
      ]
    },
    {
      "cell_type": "code",
      "metadata": {
        "id": "2jgHhcT2mzGA"
      },
      "source": [
        "from flask import Flask, flash, request, redirect, url_for,render_template,Response\n",
        "from werkzeug.utils import secure_filename\n",
        "from flask import send_from_directory\n",
        "from scipy.spatial.distance import cosine\n",
        "from flask_sqlalchemy import SQLAlchemy\n",
        "from PIL import Image\n",
        "from flask_table import Table, Col\n",
        "from datetime import datetime\n",
        "from tzlocal import get_localzone \n",
        "import pytz \n",
        "import numpy as np\n",
        "from facenet_pytorch import MTCNN, extract_face\n",
        "from numpy import asarray\n",
        "import cv2\n",
        "from __future__ import division\n",
        "from tensorflow.keras.models import Sequential\n",
        "from tensorflow.keras.layers import Dense\n",
        "from tensorflow.keras.models import model_from_json"
      ],
      "execution_count": null,
      "outputs": []
    },
    {
      "cell_type": "code",
      "metadata": {
        "id": "CceYGRkvm6GN",
        "colab": {
          "base_uri": "https://localhost:8080/"
        },
        "outputId": "723c01b2-a83d-4747-bd54-21155ef40364"
      },
      "source": [
        "!pip install flask_wtf"
      ],
      "execution_count": null,
      "outputs": [
        {
          "output_type": "stream",
          "text": [
            "Collecting flask_wtf\n",
            "  Downloading https://files.pythonhosted.org/packages/36/a9/8c01171066bd7a524ee005d81bb4a8aa446ab178043a1ad6cb5dc8f0bd83/Flask_WTF-0.14.3-py2.py3-none-any.whl\n",
            "Requirement already satisfied: itsdangerous in /usr/local/lib/python3.6/dist-packages (from flask_wtf) (1.1.0)\n",
            "Collecting WTForms\n",
            "\u001b[?25l  Downloading https://files.pythonhosted.org/packages/e0/31/614fc7dc7d76005b0acb8c0c8920d962b83d7422b4ba912886dfb63f86ff/WTForms-2.3.3-py2.py3-none-any.whl (169kB)\n",
            "\u001b[K     |████████████████████████████████| 174kB 8.9MB/s \n",
            "\u001b[?25hRequirement already satisfied: Flask in /usr/local/lib/python3.6/dist-packages (from flask_wtf) (1.1.2)\n",
            "Requirement already satisfied: MarkupSafe in /usr/local/lib/python3.6/dist-packages (from WTForms->flask_wtf) (1.1.1)\n",
            "Requirement already satisfied: click>=5.1 in /usr/local/lib/python3.6/dist-packages (from Flask->flask_wtf) (7.1.2)\n",
            "Requirement already satisfied: Werkzeug>=0.15 in /usr/local/lib/python3.6/dist-packages (from Flask->flask_wtf) (1.0.1)\n",
            "Requirement already satisfied: Jinja2>=2.10.1 in /usr/local/lib/python3.6/dist-packages (from Flask->flask_wtf) (2.11.2)\n",
            "Installing collected packages: WTForms, flask-wtf\n",
            "Successfully installed WTForms-2.3.3 flask-wtf-0.14.3\n"
          ],
          "name": "stdout"
        }
      ]
    },
    {
      "cell_type": "code",
      "metadata": {
        "id": "IaT4jQNNow87"
      },
      "source": [
        "from wtforms import Form, TextField, TextAreaField, validators, StringField, SubmitField\n",
        "from flask_wtf import FlaskForm\n",
        "from wtforms import StringField, PasswordField, SubmitField, BooleanField,SelectField\n",
        "from wtforms.validators import DataRequired, Length, Email, EqualTo\n",
        "from flask_wtf.file import FileField, FileAllowed, FileRequired"
      ],
      "execution_count": null,
      "outputs": []
    },
    {
      "cell_type": "code",
      "metadata": {
        "id": "5PvsK1B0PSpZ"
      },
      "source": [
        "import cv2\n",
        "from tqdm import tqdm\n",
        "import numpy as np\n",
        "from PIL import Image"
      ],
      "execution_count": null,
      "outputs": []
    },
    {
      "cell_type": "markdown",
      "metadata": {
        "id": "gC6lNS3inASn"
      },
      "source": [
        "# ***Application***"
      ]
    },
    {
      "cell_type": "code",
      "metadata": {
        "id": "JEdHxqf1-S5f",
        "colab": {
          "base_uri": "https://localhost:8080/"
        },
        "outputId": "7d6a60ca-6b26-43a1-e5a7-e6a54f0d2086"
      },
      "source": [
        "cd /content/drive/My Drive/Attendance"
      ],
      "execution_count": null,
      "outputs": [
        {
          "output_type": "stream",
          "text": [
            "/content/drive/My Drive/Attendance\n"
          ],
          "name": "stdout"
        }
      ]
    },
    {
      "cell_type": "code",
      "metadata": {
        "id": "v3hj4FpxztnK",
        "colab": {
          "base_uri": "https://localhost:8080/"
        },
        "outputId": "c81ea91a-3a72-4cf3-8ffb-52a11f4aed4b"
      },
      "source": [
        "dt=datetime.now(tz=pytz.timezone(\"Asia/Kolkata\"))\n",
        "dt"
      ],
      "execution_count": null,
      "outputs": [
        {
          "output_type": "execute_result",
          "data": {
            "text/plain": [
              "datetime.datetime(2021, 1, 4, 9, 54, 53, 923909, tzinfo=<DstTzInfo 'Asia/Kolkata' IST+5:30:00 STD>)"
            ]
          },
          "metadata": {
            "tags": []
          },
          "execution_count": 17
        }
      ]
    },
    {
      "cell_type": "code",
      "metadata": {
        "id": "_zg7p_fmnPAv",
        "colab": {
          "base_uri": "https://localhost:8080/"
        },
        "outputId": "de2352fa-9fef-46d7-8f36-9afe40e5231c"
      },
      "source": [
        "from sqlalchemy import extract\n",
        "UPLOAD_FOLDER = '/content/drive/My Drive/Attendance'\n",
        "ALLOWED_EXTENSIONS = {'txt', 'pdf', 'png', 'jpg', 'jpeg', 'gif','mp4'}\n",
        "\n",
        "app = Flask(__name__)\n",
        "run_with_ngrok(app)\n",
        "app.config['UPLOAD_FOLDER'] = UPLOAD_FOLDER\n",
        "app.config['SECRET_KEY'] = '7d441f27d441f27567d441f2b6176a'\n",
        "app.config['SQLALCHEMY_DATABASE_URI'] = 'sqlite:////content/recorddb.db'\n",
        "db = SQLAlchemy(app)\n",
        "\n",
        "df = pd.DataFrame(columns=['Name','Value'])\n",
        "\n",
        "json_file = open('emotion.json', 'r')\n",
        "loaded_model_json = json_file.read()\n",
        "\n",
        "json_file.close()\n",
        "loaded_model = model_from_json(loaded_model_json)\n",
        "# load weights into new model\n",
        "loaded_model.load_weights(\"emotion.h5\")\n",
        "print(\"Loaded model from disk\")\n",
        "labels = ['Angry', 'Disgust', 'Fear', 'Happy', 'Sad', 'Surprise', 'Neutral']\n",
        "\n",
        "video_ls = []\n",
        "vid=[]\n",
        "emo=[]\n",
        "\n",
        "class User(db.Model):\n",
        "    emb = db.Column(db.String, primary_key=True)\n",
        "    username = db.Column(db.String(80), unique=True, nullable=False)\n",
        "\n",
        "\n",
        "    def __repr__(self):\n",
        "        return '<User %r>' % self.username\n",
        "\n",
        "class Rec(db.Model):\n",
        "    Id = db.Column(db.Integer, primary_key=True)\n",
        "    username = db.Column(db.String(80), nullable=False)\n",
        "    emotions = db.Column(db.String(80), nullable=False)\n",
        "    date = db.Column(db.DateTime,nullable=False,default=datetime.now(tz=pytz.timezone(\"Asia/Kolkata\")))\n",
        "\n",
        "    def __repr__(self):\n",
        "        return '<User %r>' % self.username\n",
        "\n",
        "class Record(db.Model):\n",
        "    Id = db.Column(db.Integer, primary_key=True)\n",
        "    username = db.Column(db.String(80), nullable=False)\n",
        "    date = db.Column(db.DateTime,nullable=False,default=datetime.now(tz=pytz.timezone(\"Asia/Kolkata\")))\n",
        "\n",
        "    def __repr__(self):\n",
        "        return '<User %r>' % self.username\n",
        "\n",
        "class Rec0(db.Model):\n",
        "    Id = db.Column(db.Integer, primary_key=True)\n",
        "    username = db.Column(db.String(80),unique=True, nullable=False)\n",
        "    emotions = db.Column(db.String(80), nullable=False)\n",
        "    date = db.Column(db.DateTime,nullable=False,default=datetime.now(tz=pytz.timezone(\"Asia/Kolkata\")))\n",
        "\n",
        "    def __repr__(self):\n",
        "        return '<User %r>' % self.username\n",
        "\n",
        "db.create_all()\n",
        "\n",
        "class Results(Table):\n",
        "    Id = Col('Id')\n",
        "    username = Col('username')\n",
        "    emotions = Col('emotions')\n",
        "    date = Col('date')\n",
        "\n",
        "class Results_1(Table):\n",
        "    id = Col('ID')\n",
        "    name = Col('Name')\n",
        "    description  = Col('Number of Days')\n",
        "\n",
        "class Absentees(Table):\n",
        "    id = Col('ID')\n",
        "    name = Col('Name')\n",
        "\n",
        "def allowed_file(filename):\n",
        "    return '.' in filename and \\\n",
        "           filename.rsplit('.', 1)[1].lower() in ALLOWED_EXTENSIONS\n",
        "\n",
        "class LoginForm(FlaskForm):\n",
        "    email = StringField('Email',\n",
        "                        validators=[DataRequired()])\n",
        "    password = PasswordField('Password', validators=[DataRequired()])\n",
        "    remember = BooleanField('Remember Me')\n",
        "    submit = SubmitField('Login')\n",
        "\n",
        "class RegistrationForm(FlaskForm):\n",
        "    username = StringField('Username',\n",
        "                           validators=[DataRequired(), Length(min=2, max=20)])\n",
        "    email = StringField('Email',\n",
        "                        validators=[DataRequired()])\n",
        "    gender = SelectField('Gender', [DataRequired()],\n",
        "                        choices=[('Male', 'Male'),\n",
        "                                 ('Female', 'Female'),\n",
        "                                 ('Other', 'Other')])\n",
        "    jobId = SelectField('Job Title', [DataRequired()],\n",
        "                        choices=[('Farmer', 'farmer'),\n",
        "                                 ('Corrupt Politician', 'politician'),\n",
        "                                 ('No-nonsense City Cop', 'cop')])\n",
        "    picture = FileField('Update Picture', validators=[FileAllowed(['jpg', 'png'])])\n",
        "    submit = SubmitField('Submit')\n",
        "\n",
        "choice=[]\n",
        "choice.append(('All','All'))\n",
        "for i in User.query.all():\n",
        "  choice.append((i.username,i.username))\n",
        "mon=['Jan','Feb','Mar','Apr','May','Jun','Jul','Aug','Sep','Oct',\"Nov\",'Dec']\n",
        "month=[]\n",
        "month.append(('All','All'))\n",
        "for i in range(len(mon)):\n",
        "  month.append((i+1,mon[i]))\n",
        "class QueryForm(FlaskForm):\n",
        "    username = SelectField('Username',[DataRequired()],\n",
        "                           choices=choice)\n",
        "    jobId = SelectField('Month',[DataRequired()],\n",
        "                           choices=month)\n",
        "    submit = SubmitField('Submit')\n",
        "\n",
        "\n",
        "@app.route('/', methods=['GET', 'POST'])\n",
        "def Attendence_upload():    \n",
        "  return render_template('h1.html')\n",
        "\n",
        "@app.route('/home', methods=['GET', 'POST'])\n",
        "def home():    \n",
        "  return render_template('hello.html')\n",
        "\n",
        "@app.route('/login', methods=['GET', 'POST'])\n",
        "def login1():\n",
        "    error = None\n",
        "    if request.method == 'POST':\n",
        "        if request.form['username'] != 'admin' or request.form['password'] != 'admin':\n",
        "            error = 'Invalid Credentials. Please try again.'\n",
        "            flash('Login Unsuccessful. Please check username and password', 'danger')\n",
        "        else:\n",
        "            return redirect(url_for('home'))\n",
        "    return render_template('login2.html', error=error)\n",
        "'''\n",
        "@app.route(\"/login\", methods=['GET', 'POST'])\n",
        "def login():\n",
        "    form = LoginForm()\n",
        "    if form.validate_on_submit():\n",
        "        if form.email.data == 'admin@cc.com' and form.password.data == 'password':\n",
        "            flash('You have been logged in!', 'success')\n",
        "            return redirect(url_for('ro'))\n",
        "        else:\n",
        "            flash('Login Unsuccessful. Please check username and password', 'danger')\n",
        "    return render_template('login.html', title='Admin Login', form=form)'''\n",
        "\n",
        "@app.route(\"/registration\", methods=['GET', 'POST'])\n",
        "def register():\n",
        "    global df\n",
        "    form = RegistrationForm()\n",
        "    if form.validate_on_submit():\n",
        "        flash(f'Acdiscription created for {form.username.data}!', 'success')\n",
        "        if form.picture.data:\n",
        "          f_name,f_ext = os.path.splitext(form.picture.data.filename)\n",
        "          path = '/content/drive/My Drive/Attendance'+form.username.data+f_ext\n",
        "          form.picture.data.save(path)\n",
        "          img = Image.open(path)\n",
        "          img = img.convert('RGB')\n",
        "          img_cropped = mtcnn(img)\n",
        "          img_embedding1 = resnet(img_cropped.unsqueeze(0))\n",
        "          #mean_emb=(img_embedding1.detach().numpy()+img_embedding2.detach().numpy()+img_embedding3.detach().numpy())/3\n",
        "          mean_emb = img_embedding1.detach().numpy()[0]\n",
        "          if (form.username.data).lower() in df['Name'].unique():\n",
        "            df = df.append({'Name':(form.username.data).lower(),'Value':mean_emb},ignore_index=True)\n",
        "            embed=((df[df['Name']==(form.username.data).lower()]['Value'].mean()).tostring().hex())\n",
        "            admin = User.query.filter_by(username=(form.username.data).lower()).update(dict(emb=embed))\n",
        "            db.session.commit()\n",
        "          else:\n",
        "            df = df.append({'Name':(form.username.data).lower(),'Value':mean_emb},ignore_index=True)    \n",
        "            guest = User(emb=mean_emb.tostring().hex(),username=(form.username.data).lower())\n",
        "            db.session.add(guest)\n",
        "            db.session.commit()\n",
        "          return redirect(url_for('home'))\n",
        "    return render_template('register.html', title='Register', form=form)\n",
        "\n",
        "\n",
        "@app.route(\"/Record\", methods=['GET', 'POST'])\n",
        "def record():\n",
        "    form = RegistrationForm()\n",
        "    que=(db.session.query(User,db.func.count(Rec.username)).outerjoin(Rec,User.username == Rec.username).filter(extract('month', Rec.date) >= datetime.today().month,extract('year', Rec.date) >= datetime.today().year,extract('day', Rec.date) >= datetime.today().day).group_by(User.username).all())\n",
        "    lis=[]\n",
        "    for i in range(len(que)):\n",
        "      lis.append(dict(id=i+1,name=que[i][0].username,description=que[i][1]))\n",
        "    print(lis)\n",
        "    table = Results_1(lis)\n",
        "    table.border = True\n",
        "    return render_template('results.html', table=table)\n",
        "\n",
        "@app.route(\"/Records\", methods=['GET', 'POST'])\n",
        "def records():\n",
        "    form = QueryForm()\n",
        "    if request.method=='POST':\n",
        "      if form.username.data != 'All' and form.jobId.data != 'All':\n",
        "        que =db.session.query(Rec.username,db.func.count(Rec.username)).select_from(Rec).group_by(Rec.username).filter(Rec.username==form.username.data,extract('month', Rec.date) == form.jobId.data).all()\n",
        "        lis=[]\n",
        "        for i in range(len(que)):\n",
        "          lis.append(dict(id=i+1,name=que[i][0],description=que[i][1]))\n",
        "        table = Results_1(lis)\n",
        "        table.border = True\n",
        "        return render_template('results.html', table=table)\n",
        "      elif form.username.data == 'All' and form.jobId.data != 'All':\n",
        "        que=db.session.query(Rec.username,db.func.count(Rec.username)).select_from(Rec).group_by(Rec.username).filter(extract('month', Rec.date) == form.jobId.data).order_by(db.func.count(Rec.username).desc()).all()\n",
        "        bar_labels=[]\n",
        "        bar_values=[]\n",
        "        lis=[]\n",
        "        for i in range(len(que)):\n",
        "          bar_labels.append((que[i][0]))\n",
        "          bar_values.append((que[i][1]))\n",
        "          lis.append(dict(id=i+1,name=que[i][0],description=que[i][1]))\n",
        "        table = Results_1(lis)\n",
        "        table.border = True \n",
        "        return render_template('bar_chart.html',table=table,title='Monthly Attendance', max=20, labels=bar_labels, values=bar_values)\n",
        "      elif form.username.data != 'All' and form.jobId.data == 'All':\n",
        "        que=(db.session.query(User,db.func.count(Rec.username),extract('month', Rec.date)).outerjoin(Rec,User.username == Rec.username).filter(Rec.username=='rohan').group_by(extract('month', Rec.date)).all())\n",
        "        bar_labels=[]\n",
        "        bar_values=[]\n",
        "        lis=[]\n",
        "        for i in range(len(que)):\n",
        "          for j in month[1:]:\n",
        "            if j[0] == que[i][2]:\n",
        "              bar_labels.append((j[1]))\n",
        "              bar_values.append((que[i][1]))\n",
        "              lis.append(dict(id=i+1,name=j[1],description=que[i][1]))\n",
        "            else:\n",
        "              bar_labels.append((j[1]))\n",
        "              bar_values.append((0))\n",
        "        table = Results_1(lis)\n",
        "        table.border = True \n",
        "        return render_template('bar_chart.html',table=table,title=form.username.data+' '+'Monthly Attendance', max=20, labels=bar_labels, values=bar_values)  \n",
        "      elif form.username.data == 'All' and form.jobId.data == 'All':\n",
        "        que=db.session.query(Rec.username,db.func.count(Rec.username)).select_from(Rec).group_by(Rec.username).filter(extract('year', Rec.date) ==2020 ).order_by(db.func.count(Rec.username).desc()).all()\n",
        "        bar_labels=[]\n",
        "        bar_values=[]\n",
        "        lis=[]\n",
        "        for i in range(len(que)):\n",
        "          bar_labels.append((que[i][0]))\n",
        "          bar_values.append((que[i][1]))\n",
        "          lis.append(dict(id=i+1,name=que[i][0],description=que[i][1]))\n",
        "        table = Results_1(lis)\n",
        "        table.border = True \n",
        "        return render_template('bar_chart.html',table=table,title='Monthly Attendance', max=20, labels=bar_labels, values=bar_values)\n",
        "    return render_template('Record.html', form=form)\n",
        "\n",
        "\n",
        "\n",
        "@app.route('/mobile_upload', methods=['GET', 'POST'])\n",
        "def upload_mobile():\n",
        "  return render_template('mobile.html')\n",
        "\n",
        "\n",
        "@app.route('/mobile_video_upload', methods=['GET', 'POST'])\n",
        "def mobile_video_upload():\n",
        "    global file,name,fin,emotion\n",
        "    a=0\n",
        "    mob_name=[]\n",
        "    mob_emotion=[]\n",
        "    Rec0.query.delete()\n",
        "    db.session.commit()\n",
        "    cont=User.query.all()\n",
        "    if request.method == 'POST':\n",
        "        # check if the post request has the file part\n",
        "        if 'file' not in request.files:\n",
        "            flash('No file part')\n",
        "            return redirect(request.url)\n",
        "        file = request.files['file']\n",
        "        # if user does not select file, browser also\n",
        "        # submit an empty part without filename\n",
        "        if file.filename == '':\n",
        "            flash('No selected file')\n",
        "            return redirect(request.url)\n",
        "        if file and allowed_file(file.filename):\n",
        "          path = '/content/drive/My Drive/Attendance'+file.filename\n",
        "          file.save(path)\n",
        "          v_cap = cv2.VideoCapture(path)\n",
        "          v_len = int(v_cap.get(cv2.CAP_PROP_FRAME_COUNT))\n",
        "          # Loop through video\n",
        "          batch_size = 16\n",
        "          frames = []\n",
        "          faces = []\n",
        "          video_ls=[]\n",
        "          cont=User.query.all()\n",
        "          detector = MTCNN(min_face_size=200)\n",
        "          # detect faces in the image\n",
        "          for i in (range(v_len)):\n",
        "              # Load frame\n",
        "              success, frame = v_cap.read()\n",
        "              if not success:\n",
        "                  continue \n",
        "              # Add to batch\n",
        "              img = cv2.cvtColor(frame, cv2.COLOR_BGR2RGB)\n",
        "              # When batch is full, detect faces and reset batch list\n",
        "              results = detector.detect(img)\n",
        "              if len(results)>0:\n",
        "                        for i in range(len(results[0])):\n",
        "                          extract_face(img, results[0][i], save_path='group/detected_face_stu_vid_{}.png'.format(i))\n",
        "                          full_size_image = cv2.imread('group/detected_face_stu_vid_{}.png'.format(i))\n",
        "                          gray=cv2.cvtColor(full_size_image,cv2.COLOR_BGR2GRAY)\n",
        "                          #detecting faces\n",
        "                          for (x, y, w, h) in  results[0]:\n",
        "                                  roi_gray = gray[int(y):int(h), int(x):int(w)]\n",
        "                                  cropped_img = np.expand_dims(np.expand_dims(cv2.resize(gray, (48, 48)), -1), 0)\n",
        "                                  cv2.normalize(cropped_img, cropped_img, alpha=0, beta=1, norm_type=cv2.NORM_L2, dtype=cv2.CV_32F)\n",
        "                                  #predicting the emotion\n",
        "                                  yhat= loaded_model.predict(cropped_img)\n",
        "                          #emotion.append(labels[int(np.argmax(yhat))])\n",
        "                          fi = Image.open('group/detected_face_stu_vid_{}.png'.format(i))\n",
        "                          try:\n",
        "                            img_cropped = mtcnn(fi)\n",
        "                            img_embedding = resnet(img_cropped.unsqueeze(0)).detach().numpy()[0]\n",
        "                            for j in cont:\n",
        "                              vec=(np.frombuffer(bytes.fromhex(j.emb),dtype=np.float32))\n",
        "                              if cosine(img_embedding, vec)<0.45:\n",
        "                                video_ls.append((j.username,labels[int(np.argmax(yhat))],cosine(img_embedding, vec),i))\n",
        "                                a+=1\n",
        "                          except:\n",
        "                              pass\n",
        "          if a>0:\n",
        "            video_ls.sort(key = lambda x:x[2])\n",
        "            for i in video_ls:\n",
        "              if i[0] not in mob_name:\n",
        "                mob_name.append(i[0])\n",
        "                mob_emotion.append(i[1])\n",
        "                for i in cont:\n",
        "                  if i.username in mob_name:\n",
        "                    guest = Rec0(username=i.username,emotions=mob_emotion[mob_name.index(i.username)],date=datetime.now(tz=pytz.timezone(\"Asia/Kolkata\")))\n",
        "                    guest_t = Rec(username=i.username,emotions=mob_emotion[mob_name.index(i.username)],date=datetime.now(tz=pytz.timezone(\"Asia/Kolkata\")))\n",
        "                    db.session.add(guest)\n",
        "                    db.session.add(guest_t)\n",
        "                    db.session.commit()\n",
        "                table1 = Results(Rec0.query.all())\n",
        "                table1.border = True\n",
        "                lis=[]\n",
        "                Qr = [i.username for i in User.query.all() if i.username not in [i.username for i in Rec0.query.filter(extract('month', Rec0.date) >= datetime.today().month,extract('year', Rec0.date) >= datetime.today().year,extract('day', Rec0.date) >= datetime.today().day).all()]]\n",
        "                for i in range(len(Qr)):\n",
        "                  lis.append(dict(id=i+1,name=Qr[i]))\n",
        "                table = Absentees(lis)\n",
        "                table.border = True\n",
        "                return render_template('result_a.html', table=table1,table1=table)\n",
        "              else:\n",
        "                print('no match')\n",
        "                return \" no match\"\n",
        "    return  render_template('upload.html')\n",
        "\n",
        "\n",
        "@app.route('/uploads/<filename>')\n",
        "def uploaded_file(filename):\n",
        "    return send_from_directory(app.config['UPLOAD_FOLDER'],\n",
        "                               filename)\n",
        "\n",
        "@app.route('/live_upload')\n",
        "def live_upload():\n",
        "    return \"\"\"\n",
        "    <!DOCTYPE html>\n",
        "    <html lang=\"en\">\n",
        "    <head>\n",
        "        <meta charset=\"UTF-8\">\n",
        "        <title>Title</title>\n",
        "        <style>\n",
        "          html {\n",
        "                  overflow: hidden;\n",
        "                  height: 100%;\n",
        "                }\n",
        "\n",
        "                video {\n",
        "                  width: 90%;\n",
        "                  height: 60%;\n",
        "                  position: absolute;\n",
        "                  display: block;\n",
        "                  top: 50px;\n",
        "                  left: 50px;\n",
        "                  object-fit: cover;\n",
        "                }\n",
        "\n",
        "                body {\n",
        "                  background-image: url('/static/c&c-back.png');\n",
        "                  background-repeat: no-repeat;\n",
        "                  background-attachment: fixed;  \n",
        "                  background-size: cover;\n",
        "                  margin: 0;\n",
        "                  height: 100%;\n",
        "                  width: 100%;\n",
        "                  position: fixed;\n",
        "                  top: 0;\n",
        "                  left: 0;\n",
        "                  bottom: 0;\n",
        "                  right: 0;\n",
        "                }\n",
        "        </style>      \n",
        "    </head>\n",
        "    <body>\n",
        "    <video id=\"video\" width=\"640\" height=\"480\" autoplay></video>\n",
        "    <button id=\"snap\">Snap Photo</button>\n",
        "    <button id=\"stop\" title=\"stop\" onclick=\"stopvideo()\">stop</button>\n",
        "    <button id=\"done\" title=\"done\" onclick=\"myFunction()\">done</button>\n",
        "    <canvas id=\"canvas\" width=\"640\" height=\"480\"></canvas>\n",
        "    </body>\n",
        "    <script>\n",
        "\n",
        "    var video = document.getElementById('video');\n",
        "    if(navigator.mediaDevices && navigator.mediaDevices.getUserMedia) {\n",
        "        navigator.mediaDevices.getUserMedia({ video: true }).then(function(stream) {\n",
        "            //video.src = window.URL.createObjectURL(stream);\n",
        "            video.srcObject = stream;\n",
        "            video.play();\n",
        "        });\n",
        "    }\n",
        "\n",
        "    var canvas = document.getElementById('canvas');\n",
        "    var context = canvas.getContext('2d');\n",
        "    var video = document.getElementById('video');\n",
        "    function myFunction() {\n",
        "      location.replace(\"/results\")\n",
        "    };\n",
        "    var content = '<a id=\"a\"><b id=\"b\">hey!</b></a>';\n",
        "    var blob = new Blob([content], { type: \"text/xml\"});\n",
        "    function stopvideo(){\n",
        "      video.pause()\n",
        "      var formData = new FormData()\n",
        "      formData.append('webmasterfile', blob);\n",
        "      var request = new XMLHttpRequest();\n",
        "      request.open('POST', '/video',true);\n",
        "      request.send(formData);\n",
        "    };\n",
        "    function grab(){\n",
        "      context.drawImage(video, 0, 0, 640, 480);\n",
        "      canvas.toBlob(upload,'image/jpeg');\n",
        "    };\n",
        "\n",
        "    // Trigger photo take\n",
        "    document.getElementById(\"snap\").addEventListener(\"click\", function() {\n",
        "        context.drawImage(video, 0, 0, 640, 480);\n",
        "    canvas.toBlob(upload,'image/jpeg');\n",
        "    function upload(blob){\n",
        "      var fd = new FormData();\n",
        "      fd.append('filetoupload',blob);\n",
        "      var request = new XMLHttpRequest();\n",
        "      request.open('POST', '/video', true);\n",
        "      request.onload = function(){\n",
        "        context.drawImage(video, 0, 0, 640, 480);\n",
        "        canvas.toBlob(upload,'image/jpeg');\n",
        "      };\n",
        "      request.send(fd);\n",
        "    }\n",
        "    });\n",
        "\n",
        "\n",
        "</script>\n",
        "</html>\n",
        "    \"\"\"\n",
        "\n",
        "@app.route('/Attendence_upload', methods=['GET', 'POST'])\n",
        "def Attendencee_upload():\n",
        "    global file,name,fin,emotion\n",
        "    a=0\n",
        "    name=[]\n",
        "    fin=[]\n",
        "    emotion=[]\n",
        "    Rec0.query.delete()\n",
        "    db.session.commit()\n",
        "    cont=User.query.all()\n",
        "    if request.method == 'POST':\n",
        "        # check if the post request has the file part\n",
        "        if 'file' not in request.files:\n",
        "            flash('No file part')\n",
        "            return redirect(request.url)\n",
        "        file = request.files['file']\n",
        "        # if user does not select file, browser also\n",
        "        # submit an empty part without filename\n",
        "        if file.filename == '':\n",
        "            flash('No selected file')\n",
        "            return redirect(request.url)\n",
        "        if file and allowed_file(file.filename):\n",
        "            #mtcnn = MTCNN(keep_all=True,select_largest=False)\n",
        "            img = Image.open(file)\n",
        "            img = img.convert('RGB')\n",
        "            results = mtcnn.detect(img)\n",
        "            for i in range(len(results[0])):\n",
        "              extract_face(img, results[0][i], save_path='group/detected_face_stu_{}.png'.format(i))\n",
        "              full_size_image = cv2.imread('group/detected_face_stu_{}.png'.format(i))\n",
        "              gray=cv2.cvtColor(full_size_image,cv2.COLOR_BGR2GRAY)\n",
        "              #detecting faces\n",
        "              for (x, y, w, h) in  results[0]:\n",
        "                      roi_gray = gray[int(y):int(h), int(x):int(w)]\n",
        "                      cropped_img = np.expand_dims(np.expand_dims(cv2.resize(gray, (48, 48)), -1), 0)\n",
        "                      cv2.normalize(cropped_img, cropped_img, alpha=0, beta=1, norm_type=cv2.NORM_L2, dtype=cv2.CV_32F)\n",
        "                      #predicting the emotion\n",
        "                      yhat= loaded_model.predict(cropped_img)\n",
        "              #emotion.append(labels[int(np.argmax(yhat))])\n",
        "              fi = Image.open('group/detected_face_stu_{}.png'.format(i))\n",
        "              try:\n",
        "                img_cropped = mtcnn(fi)\n",
        "                img_embedding = resnet(img_cropped.unsqueeze(0)).detach().numpy()[0]\n",
        "                for j in cont:\n",
        "                  vec=(np.frombuffer(bytes.fromhex(j.emb),dtype=np.float32))\n",
        "                  if cosine(img_embedding, vec)<0.45:\n",
        "                    name.append((j.username,labels[int(np.argmax(yhat))],cosine(img_embedding, vec),i))\n",
        "                    a+=1\n",
        "              except:\n",
        "                print('could not detect',i)\n",
        "                pass\n",
        "            if a>0:\n",
        "              name.sort(key = lambda x:x[2])\n",
        "              for i in name:\n",
        "                if i[0] not in fin:\n",
        "                  fin.append(i[0])\n",
        "                  emotion.append(i[1])\n",
        "              print({'names':name,'emotion':fin})\n",
        "              for i in cont:\n",
        "                if i.username in fin:\n",
        "                  guest = Rec0(username=i.username,emotions=emotion[fin.index(i.username)],date=datetime.now(tz=pytz.timezone(\"Asia/Kolkata\")))\n",
        "                  guest_t = Rec(username=i.username,emotions=emotion[fin.index(i.username)],date=datetime.now(tz=pytz.timezone(\"Asia/Kolkata\")))\n",
        "                  db.session.add(guest)\n",
        "                  db.session.add(guest_t)\n",
        "                  db.session.commit()\n",
        "              table1 = Results(Rec0.query.all())\n",
        "              table1.border = True\n",
        "              lis=[]\n",
        "              Qr = [i.username for i in User.query.all() if i.username not in [i.username for i in Rec0.query.filter(extract('month', Rec0.date) >= datetime.today().month,extract('year', Rec0.date) >= datetime.today().year,extract('day', Rec0.date) >= datetime.today().day).all()]]\n",
        "              for i in range(len(Qr)):\n",
        "                lis.append(dict(id=i+1,name=Qr[i]))\n",
        "              table = Absentees(lis)\n",
        "              table.border = True\n",
        "              return render_template('result_a.html', table=table1,table1=table)\n",
        "            else:\n",
        "              print('no match')\n",
        "              return \" no match\"\n",
        "    return  render_template('upload.html')\n",
        "\n",
        "@app.route('/video', methods=['POST'])\n",
        "def video():\n",
        "      global file1,video_ls,vid,emo\n",
        "      file1 = request.files\n",
        "      Rec0.query.delete()\n",
        "      db.session.commit()\n",
        "      cont = User.query.all()\n",
        "      if request.method=='POST':\n",
        "          try:\n",
        "              print('entered')\n",
        "              #chk_fl=request.file['filetoupload']\n",
        "              img = Image.open(file1['filetoupload'])\n",
        "              img = img.convert('RGB')\n",
        "              results = mtcnn.detect(img)\n",
        "              for i in range(len(results[0])):\n",
        "                extract_face(img, results[0][i], save_path='group/detected_face_stu_vid_{}.png'.format(i))\n",
        "                full_size_image = cv2.imread('group/detected_face_stu_vid_{}.png'.format(i))\n",
        "                gray=cv2.cvtColor(full_size_image,cv2.COLOR_BGR2GRAY)\n",
        "                #detecting faces\n",
        "                for (x, y, w, h) in  results[0]:\n",
        "                        roi_gray = gray[int(y):int(h), int(x):int(w)]\n",
        "                        cropped_img = np.expand_dims(np.expand_dims(cv2.resize(gray, (48, 48)), -1), 0)\n",
        "                        cv2.normalize(cropped_img, cropped_img, alpha=0, beta=1, norm_type=cv2.NORM_L2, dtype=cv2.CV_32F)\n",
        "                        #predicting the emotion\n",
        "                        yhat= loaded_model.predict(cropped_img)\n",
        "                #emotion.append(labels[int(np.argmax(yhat))])\n",
        "                fi = Image.open('group/detected_face_stu_vid_{}.png'.format(i))\n",
        "                try:\n",
        "                  img_cropped = mtcnn(fi)\n",
        "                  img_embedding = resnet(img_cropped.unsqueeze(0)).detach().numpy()[0]\n",
        "                  for j in cont:\n",
        "                    vec=(np.frombuffer(bytes.fromhex(j.emb),dtype=np.float32))\n",
        "                    if cosine(img_embedding, vec)<0.45:\n",
        "                      video_ls.append((j.username,labels[int(np.argmax(yhat))],cosine(img_embedding, vec),i))\n",
        "                      a+=1\n",
        "                except:\n",
        "                    pass\n",
        "                return \"recorded\"\n",
        "          except:\n",
        "            if file1['webmasterfile']:\n",
        "              print('entered_2')\n",
        "              #chk_fl=request.file['webmasterfile']\n",
        "              if len(video_ls)>0:\n",
        "                video_ls.sort(key = lambda x:x[2])\n",
        "                for i in video_ls:\n",
        "                  if i[0] not in vid:\n",
        "                    vid.append(i[0])\n",
        "                    emo.append(i[1])\n",
        "                print(video_ls)\n",
        "                print(vid)\n",
        "                for i in cont:\n",
        "                  if i.username in vid:\n",
        "                    guest = Rec0(username=i.username,emotions=emo[vid.index(i.username)])\n",
        "                    guest_t = Rec(username=i.username,emotions=emo[vid.index(i.username)])\n",
        "                    db.session.add(guest)\n",
        "                    db.session.add(guest_t)\n",
        "                    db.session.commit()\n",
        "                    print('match')\n",
        "                return \"match\"\n",
        "              else:\n",
        "                print('no match')\n",
        "                return \" no match\"\n",
        "      else:\n",
        "          return \"Invalid request\"\n",
        "\n",
        "@app.route('/results')\n",
        "def results():\n",
        "    video_ls=[]\n",
        "    vid=[]\n",
        "    emo=[]\n",
        "    Recs = Rec.query.filter(extract('month', Rec.date) >= datetime.today().month,extract('year', Rec.date) >= datetime.today().year,extract('day', Rec.date) >= datetime.today().day).all()\n",
        "    table1 = Results(Recs)\n",
        "    table1.border = True\n",
        "    lis=[]\n",
        "    Qr = [i.username for i in User.query.all() if i.username not in [i.username for i in Rec.query.filter(extract('month', Rec.date) >= datetime.today().month,extract('year', Rec.date) >= datetime.today().year,extract('day', Rec.date) >= datetime.today().day).all()]]\n",
        "    for i in range(len(Qr)):\n",
        "      lis.append(dict(id=i+1,name=Qr[i]))\n",
        "    table = Absentees(lis)\n",
        "    table.border = True\n",
        "    return render_template('result_a.html', table=table1,table1=table)\n",
        "\n",
        "@app.route('/')\n",
        "def download():\n",
        "\treturn render_template('download.html')\n",
        "\n",
        "@app.route('/download/report/csv')\n",
        "def download_report():\n",
        "  try:\n",
        "    result = User.query.all()\n",
        "    output = io.StringIO()\n",
        "    writer = csv.writer(output)\n",
        "    line = ['username','emb']\n",
        "    writer.writerow(line)\n",
        "    for row in result:\n",
        "      line = [row.username,row.emb]\n",
        "      writer.writerow(line)\n",
        "    output.seek(0)\n",
        "    return Response(output, mimetype=\"text/csv\", headers={\"Content-Disposition\": \"attachment;filename=employee_report.csv\"})\n",
        "  except Exception as e:\n",
        "      print(e)\n",
        "\n",
        "if __name__ == '__main__':\n",
        "   app.run()"
      ],
      "execution_count": null,
      "outputs": [
        {
          "output_type": "stream",
          "text": [
            "Loaded model from disk\n",
            " * Serving Flask app \"__main__\" (lazy loading)\n",
            " * Environment: production\n"
          ],
          "name": "stdout"
        },
        {
          "output_type": "stream",
          "text": [
            "/usr/local/lib/python3.6/dist-packages/flask_sqlalchemy/__init__.py:834: FSADeprecationWarning: SQLALCHEMY_TRACK_MODIFICATIONS adds significant overhead and will be disabled by default in the future.  Set it to True or False to suppress this warning.\n",
            "  'SQLALCHEMY_TRACK_MODIFICATIONS adds significant overhead and '\n"
          ],
          "name": "stderr"
        },
        {
          "output_type": "stream",
          "text": [
            "\u001b[31m   WARNING: This is a development server. Do not use it in a production deployment.\u001b[0m\n",
            "\u001b[2m   Use a production WSGI server instead.\u001b[0m\n",
            " * Debug mode: off\n"
          ],
          "name": "stdout"
        },
        {
          "output_type": "stream",
          "text": [
            " * Running on http://127.0.0.1:5000/ (Press CTRL+C to quit)\n"
          ],
          "name": "stderr"
        },
        {
          "output_type": "stream",
          "text": [
            " * Running on http://1a6d3add240b.ngrok.io\n",
            " * Traffic stats available on http://127.0.0.1:4040\n"
          ],
          "name": "stdout"
        },
        {
          "output_type": "stream",
          "text": [
            "127.0.0.1 - - [04/Jan/2021 04:56:49] \"\u001b[37mGET / HTTP/1.1\u001b[0m\" 200 -\n",
            "127.0.0.1 - - [04/Jan/2021 04:56:50] \"\u001b[37mGET /static/c%26c-back.png HTTP/1.1\u001b[0m\" 200 -\n",
            "127.0.0.1 - - [04/Jan/2021 04:56:52] \"\u001b[33mGET /favicon.ico HTTP/1.1\u001b[0m\" 404 -\n",
            "127.0.0.1 - - [04/Jan/2021 04:56:55] \"\u001b[37mGET /login HTTP/1.1\u001b[0m\" 200 -\n",
            "127.0.0.1 - - [04/Jan/2021 04:56:55] \"\u001b[37mGET /static/adminlogo.jpeg HTTP/1.1\u001b[0m\" 200 -\n",
            "127.0.0.1 - - [04/Jan/2021 04:57:06] \"\u001b[32mPOST /login HTTP/1.1\u001b[0m\" 302 -\n",
            "127.0.0.1 - - [04/Jan/2021 04:57:07] \"\u001b[37mGET /home HTTP/1.1\u001b[0m\" 200 -\n",
            "127.0.0.1 - - [04/Jan/2021 04:57:11] \"\u001b[37mGET /Attendence_upload HTTP/1.1\u001b[0m\" 200 -\n",
            "127.0.0.1 - - [04/Jan/2021 04:57:11] \"\u001b[37mGET /static/uploadimg.png HTTP/1.1\u001b[0m\" 200 -\n",
            "127.0.0.1 - - [04/Jan/2021 04:57:22] \"\u001b[37mGET /login HTTP/1.1\u001b[0m\" 200 -\n"
          ],
          "name": "stderr"
        }
      ]
    },
    {
      "cell_type": "markdown",
      "metadata": {
        "id": "HiCa5quhUQD3"
      },
      "source": [
        "# ***Trial codes***"
      ]
    },
    {
      "cell_type": "code",
      "metadata": {
        "id": "BI-UpWTiS2vw",
        "colab": {
          "base_uri": "https://localhost:8080/",
          "height": 54
        },
        "outputId": "1428957c-3358-413e-e224-a857f536af3c"
      },
      "source": [
        "    f1='aditya'\n",
        "    f2=\"All\"\n",
        "    if f1 != 'All' and f2 != 'All':\n",
        "      que =db.session.query(Rec.username,db.func.count(Rec.username)).select_from(Rec).group_by(Rec.username).filter(Rec.username==f1,extract('month', Rec.date) == f2).all()\n",
        "    elif f1 == 'All' and f2 != 'All':\n",
        "      que=db.session.query(Rec.username,db.func.count(Rec.username)).select_from(Rec).group_by(Rec.username).filter(extract('month', Rec.date) == f2).order_by(db.func.count(Rec.username).desc()).all()\n",
        "    elif f1 != 'All' and f2 == 'All':\n",
        "      que=(db.session.query(User,db.func.count(Rec.username),extract('month', Rec.date)).outerjoin(Rec,User.username == Rec.username).filter(Rec.username==f1).group_by(extract('month', Rec.date)).all())\n",
        "    elif f1 == 'All' and f2 == 'All':\n",
        "      que=db.session.query(Rec.username,db.func.count(Rec.username)).select_from(Rec).group_by(Rec.username).filter(extract('year', Rec.date) ==2020 ).order_by(db.func.count(Rec.username).desc()).all()\n",
        "    print(que)\n",
        "    lis=[]\n",
        "    for i in range(len(que)):\n",
        "      lis.append(dict(id=i+1,name=que[i][0].username,description=que[i][1]))\n",
        "    print(lis)"
      ],
      "execution_count": null,
      "outputs": [
        {
          "output_type": "stream",
          "text": [
            "[(<User 'aditya'>, 7, 8)]\n",
            "[{'id': 1, 'name': 'aditya', 'description': 7}]\n"
          ],
          "name": "stdout"
        }
      ]
    },
    {
      "cell_type": "code",
      "metadata": {
        "id": "LfhAUOud7jkl",
        "colab": {
          "base_uri": "https://localhost:8080/",
          "height": 254
        },
        "outputId": "f1f2c509-fc3b-4449-94f4-f2c45dd0ac61"
      },
      "source": [
        "month"
      ],
      "execution_count": null,
      "outputs": [
        {
          "output_type": "execute_result",
          "data": {
            "text/plain": [
              "[('All', 'All'),\n",
              " (1, 'Jan'),\n",
              " (2, 'Feb'),\n",
              " (3, 'Mar'),\n",
              " (4, 'Apr'),\n",
              " (5, 'May'),\n",
              " (6, 'Jun'),\n",
              " (7, 'Jul'),\n",
              " (8, 'Aug'),\n",
              " (9, 'Sep'),\n",
              " (10, 'Oct'),\n",
              " (11, 'Nov'),\n",
              " (12, 'Dec')]"
            ]
          },
          "metadata": {
            "tags": []
          },
          "execution_count": 30
        }
      ]
    },
    {
      "cell_type": "code",
      "metadata": {
        "id": "za2-cc0iWmvY",
        "colab": {
          "base_uri": "https://localhost:8080/",
          "height": 35
        },
        "outputId": "35739f8a-491c-4a37-8483-0e76c84c72d9"
      },
      "source": [
        "        que=(db.session.query(User,db.func.count(Rec.username),extract('month', Rec.date)).outerjoin(Rec,User.username == Rec.username).filter(Rec.username=='rohan').group_by(extract('month', Rec.date)).all())\n",
        "        bar_labels=[]\n",
        "        bar_values=[]\n",
        "        lis=[]\n",
        "        for i in range(len(que)):\n",
        "          for j in month[1:]:\n",
        "            if j[0] == que[i][2]:\n",
        "              bar_labels.append((j[1]))\n",
        "              bar_values.append((que[i][1]))\n",
        "              lis.append(dict(id=i+1,name=j[1],description=que[i][1]))\n",
        "            else:\n",
        "              bar_labels.append((j[1]))\n",
        "              bar_values.append((0)) \n",
        "        lis"
      ],
      "execution_count": null,
      "outputs": [
        {
          "output_type": "execute_result",
          "data": {
            "text/plain": [
              "[{'description': 5, 'id': 1, 'name': 'Aug'}]"
            ]
          },
          "metadata": {
            "tags": []
          },
          "execution_count": 47
        }
      ]
    },
    {
      "cell_type": "code",
      "metadata": {
        "id": "2HlUbEKe8qpF",
        "colab": {
          "base_uri": "https://localhost:8080/",
          "height": 35
        },
        "outputId": "e4264bd0-93aa-4841-b0b6-1fbe64768cfb"
      },
      "source": [
        "8 in que[0]"
      ],
      "execution_count": null,
      "outputs": [
        {
          "output_type": "execute_result",
          "data": {
            "text/plain": [
              "True"
            ]
          },
          "metadata": {
            "tags": []
          },
          "execution_count": 33
        }
      ]
    },
    {
      "cell_type": "code",
      "metadata": {
        "id": "fhsJS8ZfDxuZ",
        "colab": {
          "base_uri": "https://localhost:8080/",
          "height": 35
        },
        "outputId": "a554b6bc-f419-4437-c661-b456be16a589"
      },
      "source": [
        "[i.username for i in User.query.all() if i.username not in [i.username for i in Rec.query.filter(extract('month', Rec.date) >= datetime.today().month,extract('year', Rec.date) >= datetime.today().year,extract('day', Rec.date) >= datetime.today().day).all()]]"
      ],
      "execution_count": null,
      "outputs": [
        {
          "output_type": "execute_result",
          "data": {
            "text/plain": [
              "['lebron']"
            ]
          },
          "metadata": {
            "tags": []
          },
          "execution_count": 41
        }
      ]
    },
    {
      "cell_type": "code",
      "metadata": {
        "id": "ITaHDknPFmMJ",
        "colab": {
          "base_uri": "https://localhost:8080/",
          "height": 35
        },
        "outputId": "b755ce01-f22b-48c8-8538-1291c2bf9702"
      },
      "source": [
        "lis=[]\n",
        "for i in range(len(Qr)):\n",
        "  lis.append(dict(id=i+1,name=Qr[i][0].username,description=Qr[i][1]))\n",
        "print(lis)"
      ],
      "execution_count": null,
      "outputs": [
        {
          "output_type": "execute_result",
          "data": {
            "text/plain": [
              "[{'id': 1, 'name': 'lebron'}]"
            ]
          },
          "metadata": {
            "tags": []
          },
          "execution_count": 47
        }
      ]
    },
    {
      "cell_type": "code",
      "metadata": {
        "id": "NWtl0F41bD6h",
        "colab": {
          "base_uri": "https://localhost:8080/",
          "height": 207
        },
        "outputId": "73db4534-c910-4e74-e6b8-70492e70b563"
      },
      "source": [
        "(db.session.query(User,db.func.count(Rec.username),extract('month', Rec.date)).join(Rec,User.username == Rec.username).filter(extract('month', Rec.date)==8).group_by(Rec.username=='aditya').all())\n"
      ],
      "execution_count": null,
      "outputs": [
        {
          "output_type": "error",
          "ename": "AttributeError",
          "evalue": "ignored",
          "traceback": [
            "\u001b[0;31m---------------------------------------------------------------------------\u001b[0m",
            "\u001b[0;31mAttributeError\u001b[0m                            Traceback (most recent call last)",
            "\u001b[0;32m<ipython-input-51-b7889663a8cb>\u001b[0m in \u001b[0;36m<module>\u001b[0;34m()\u001b[0m\n\u001b[0;32m----> 1\u001b[0;31m \u001b[0;34m(\u001b[0m\u001b[0mdb\u001b[0m\u001b[0;34m.\u001b[0m\u001b[0msession\u001b[0m\u001b[0;34m.\u001b[0m\u001b[0mquery\u001b[0m\u001b[0;34m(\u001b[0m\u001b[0mUser\u001b[0m\u001b[0;34m,\u001b[0m\u001b[0mdb\u001b[0m\u001b[0;34m.\u001b[0m\u001b[0mfunc\u001b[0m\u001b[0;34m.\u001b[0m\u001b[0mcount\u001b[0m\u001b[0;34m(\u001b[0m\u001b[0mRec\u001b[0m\u001b[0;34m.\u001b[0m\u001b[0musername\u001b[0m\u001b[0;34m)\u001b[0m\u001b[0;34m,\u001b[0m\u001b[0mextract\u001b[0m\u001b[0;34m(\u001b[0m\u001b[0;34m'month'\u001b[0m\u001b[0;34m,\u001b[0m \u001b[0mRec\u001b[0m\u001b[0;34m.\u001b[0m\u001b[0mdate\u001b[0m\u001b[0;34m)\u001b[0m\u001b[0;34m)\u001b[0m\u001b[0;34m.\u001b[0m\u001b[0minnerjoin\u001b[0m\u001b[0;34m(\u001b[0m\u001b[0mRec\u001b[0m\u001b[0;34m,\u001b[0m\u001b[0mUser\u001b[0m\u001b[0;34m.\u001b[0m\u001b[0musername\u001b[0m \u001b[0;34m==\u001b[0m \u001b[0mRec\u001b[0m\u001b[0;34m.\u001b[0m\u001b[0musername\u001b[0m\u001b[0;34m)\u001b[0m\u001b[0;34m.\u001b[0m\u001b[0mfilter\u001b[0m\u001b[0;34m(\u001b[0m\u001b[0mextract\u001b[0m\u001b[0;34m(\u001b[0m\u001b[0;34m'month'\u001b[0m\u001b[0;34m,\u001b[0m \u001b[0mRec\u001b[0m\u001b[0;34m.\u001b[0m\u001b[0mdate\u001b[0m\u001b[0;34m)\u001b[0m\u001b[0;34m==\u001b[0m\u001b[0;36m8\u001b[0m\u001b[0;34m)\u001b[0m\u001b[0;34m.\u001b[0m\u001b[0mgroup_by\u001b[0m\u001b[0;34m(\u001b[0m\u001b[0mRec\u001b[0m\u001b[0;34m.\u001b[0m\u001b[0musername\u001b[0m\u001b[0;34m==\u001b[0m\u001b[0;34m'aditya'\u001b[0m\u001b[0;34m)\u001b[0m\u001b[0;34m.\u001b[0m\u001b[0mall\u001b[0m\u001b[0;34m(\u001b[0m\u001b[0;34m)\u001b[0m\u001b[0;34m)\u001b[0m\u001b[0;34m\u001b[0m\u001b[0;34m\u001b[0m\u001b[0m\n\u001b[0m",
            "\u001b[0;31mAttributeError\u001b[0m: 'BaseQuery' object has no attribute 'innerjoin'"
          ]
        }
      ]
    },
    {
      "cell_type": "code",
      "metadata": {
        "id": "JHn79YISF0uU",
        "colab": {
          "base_uri": "https://localhost:8080/",
          "height": 181
        },
        "outputId": "bc51a171-bb36-46cd-88a3-9b2463b62e12"
      },
      "source": [
        "db.session.query(Rec.username,db.func.count(Rec.username)).select_from(Rec).group_by(Rec.username).filter(extract('year', Rec.date) == 2020).all()"
      ],
      "execution_count": null,
      "outputs": [
        {
          "output_type": "execute_result",
          "data": {
            "text/plain": [
              "[('aditya', 8),\n",
              " ('chinmay', 8),\n",
              " ('mihir', 12),\n",
              " ('nikhil', 6),\n",
              " ('rk', 4),\n",
              " ('rohan', 8),\n",
              " ('shantanu', 12),\n",
              " ('shreyas', 6),\n",
              " ('vadi', 8)]"
            ]
          },
          "metadata": {
            "tags": []
          },
          "execution_count": 69
        }
      ]
    },
    {
      "cell_type": "code",
      "metadata": {
        "id": "ZKzYj4xXoTir",
        "colab": {
          "base_uri": "https://localhost:8080/",
          "height": 217
        },
        "outputId": "ce759dde-99c0-4197-8bdc-9f416eddbddf"
      },
      "source": [
        "UPLOAD_FOLDER = '/content/uploads'\n",
        "ALLOWED_EXTENSIONS = {'txt', 'pdf', 'png', 'jpg', 'jpeg', 'gif'}\n",
        "\n",
        "app = Flask(__name__)\n",
        "run_with_ngrok(app)\n",
        "app.config['UPLOAD_FOLDER'] = UPLOAD_FOLDER\n",
        "app.config.from_object(__name__)\n",
        "app.config['SECRET_KEY'] = '7d441f27d441f27567d441f2b6176a'\n",
        "\n",
        "@app.route('/login', methods=['GET', 'POST'])\n",
        "def login1():\n",
        "    error = None\n",
        "    if request.method == 'POST':\n",
        "        if request.form['username'] != 'admin' or request.form['password'] != 'admin':\n",
        "            error = 'Invalid Credentials. Please try again.'\n",
        "            flash('Login Unsuccessful. Please check username and password', 'danger')\n",
        "        else:\n",
        "            return redirect(url_for('home'))\n",
        "    return render_template('login2.html', error=error)\n",
        "\n",
        "@app.route('/', methods=['GET', 'POST'])\n",
        "def Attendence_upload():   \n",
        "      if request.method == 'POST':\n",
        "        # check if the post request has the file part\n",
        "        if 'file' not in request.files:\n",
        "            flash('No file part')\n",
        "            return redirect(request.url)\n",
        "        file = request.files['file']\n",
        "        # if user does not select file, browser also\n",
        "        # submit an empty part without filename\n",
        "        if file.filename == '':\n",
        "            flash('No selected file')\n",
        "            return redirect(request.url)\n",
        "        if file and allowed_file(file.filename):\n",
        "            filename = secure_filename(file.filename)\n",
        "            file.save(os.path.join(app.config['UPLOAD_FOLDER'], filename)) \n",
        "            return redirect(url_for('home'))\n",
        "      return render_template('upload.html')\n",
        "\n",
        "@app.route('/home', methods=['GET', 'POST'])\n",
        "def home():    \n",
        "  return render_template('hello.html')\n",
        "\n",
        " \n",
        "@app.route(\"/registration\", methods=['GET', 'POST'])\n",
        "def register():\n",
        "    form = RegistrationForm()\n",
        "    if form.validate_on_submit():\n",
        "        flash(f'Account created for {form.username.data}!', 'success')\n",
        "        if form.picture.data:\n",
        "          print((form.username.data).lower())\n",
        "          f_name,f_ext = os.path.splitext(form.picture.data.filename)\n",
        "          path = '/content/static/uploads/'+form.username.data+f_ext\n",
        "          form.picture.data.save(path)\n",
        "        return redirect(url_for('home'))\n",
        "    return render_template('register.html', title='Register', form=form)\n",
        "\n",
        "if __name__ == \"__main__\":\n",
        "    app.run()"
      ],
      "execution_count": null,
      "outputs": [
        {
          "output_type": "stream",
          "text": [
            " * Serving Flask app \"__main__\" (lazy loading)\n",
            " * Environment: production\n",
            "\u001b[31m   WARNING: This is a development server. Do not use it in a production deployment.\u001b[0m\n",
            "\u001b[2m   Use a production WSGI server instead.\u001b[0m\n",
            " * Debug mode: off\n"
          ],
          "name": "stdout"
        },
        {
          "output_type": "stream",
          "text": [
            " * Running on http://127.0.0.1:5000/ (Press CTRL+C to quit)\n"
          ],
          "name": "stderr"
        },
        {
          "output_type": "stream",
          "text": [
            " * Running on http://c5f3fe447b9e.ngrok.io\n",
            " * Traffic stats available on http://127.0.0.1:4040\n"
          ],
          "name": "stdout"
        },
        {
          "output_type": "stream",
          "text": [
            "127.0.0.1 - - [18/Aug/2020 12:19:27] \"\u001b[37mGET / HTTP/1.1\u001b[0m\" 200 -\n",
            "127.0.0.1 - - [18/Aug/2020 12:19:28] \"\u001b[37mGET /static/c%26c-back.png HTTP/1.1\u001b[0m\" 200 -\n",
            "127.0.0.1 - - [18/Aug/2020 12:19:30] \"\u001b[33mGET /favicon.ico HTTP/1.1\u001b[0m\" 404 -\n"
          ],
          "name": "stderr"
        }
      ]
    },
    {
      "cell_type": "code",
      "metadata": {
        "id": "L5jQ94rAu7l-",
        "colab": {
          "base_uri": "https://localhost:8080/",
          "height": 345
        },
        "outputId": "6700c4f8-da29-4c26-a2fc-833303c8dfd8"
      },
      "source": [
        "app = Flask(__name__)\n",
        "run_with_ngrok(app)\n",
        "app.config['SECRET_KEY'] = '7d441f27d441f27567d441f2'\n",
        "\n",
        "@app.route('/', methods=['GET', 'POST'])\n",
        "def Attended():    \n",
        "  return render_template('upload.html')\n",
        "\n",
        "if __name__ == \"__main__\":\n",
        "    app.run()"
      ],
      "execution_count": null,
      "outputs": [
        {
          "output_type": "stream",
          "text": [
            " * Serving Flask app \"__main__\" (lazy loading)\n",
            " * Environment: production\n",
            "\u001b[31m   WARNING: This is a development server. Do not use it in a production deployment.\u001b[0m\n",
            "\u001b[2m   Use a production WSGI server instead.\u001b[0m\n",
            " * Debug mode: off\n"
          ],
          "name": "stdout"
        },
        {
          "output_type": "stream",
          "text": [
            " * Running on http://127.0.0.1:5000/ (Press CTRL+C to quit)\n",
            "Exception in thread Thread-13:\n",
            "Traceback (most recent call last):\n",
            "  File \"/usr/lib/python3.6/threading.py\", line 916, in _bootstrap_inner\n",
            "    self.run()\n",
            "  File \"/usr/lib/python3.6/threading.py\", line 1182, in run\n",
            "    self.function(*self.args, **self.kwargs)\n",
            "  File \"/usr/local/lib/python3.6/dist-packages/flask_ngrok.py\", line 70, in start_ngrok\n",
            "    ngrok_address = _run_ngrok()\n",
            "  File \"/usr/local/lib/python3.6/dist-packages/flask_ngrok.py\", line 38, in _run_ngrok\n",
            "    tunnel_url = j['tunnels'][0]['public_url']  # Do the parsing of the get\n",
            "IndexError: list index out of range\n",
            "\n"
          ],
          "name": "stderr"
        }
      ]
    },
    {
      "cell_type": "code",
      "metadata": {
        "id": "S0in-DxJGq2_",
        "colab": {
          "base_uri": "https://localhost:8080/",
          "height": 346
        },
        "outputId": "634454d3-62a4-4502-a803-63e08f6a3927"
      },
      "source": [
        "pip install flask flask-uploads flask-dropzone"
      ],
      "execution_count": null,
      "outputs": [
        {
          "output_type": "stream",
          "text": [
            "Requirement already satisfied: flask in /usr/local/lib/python3.6/dist-packages (1.1.2)\n",
            "Collecting flask-uploads\n",
            "  Downloading https://files.pythonhosted.org/packages/c9/a8/2c8e9ec04267d94b7852a374cebeb9a32d60f8cba83818af960e64fafbec/Flask-Uploads-0.2.1.tar.gz\n",
            "Collecting flask-dropzone\n",
            "  Downloading https://files.pythonhosted.org/packages/90/59/75f018b163d9175fb6ab427125c1668e28ec6344735a2d84d84a594cc3ad/Flask_Dropzone-1.5.4-py2.py3-none-any.whl\n",
            "Requirement already satisfied: Werkzeug>=0.15 in /usr/local/lib/python3.6/dist-packages (from flask) (1.0.1)\n",
            "Requirement already satisfied: itsdangerous>=0.24 in /usr/local/lib/python3.6/dist-packages (from flask) (1.1.0)\n",
            "Requirement already satisfied: click>=5.1 in /usr/local/lib/python3.6/dist-packages (from flask) (7.1.2)\n",
            "Requirement already satisfied: Jinja2>=2.10.1 in /usr/local/lib/python3.6/dist-packages (from flask) (2.11.2)\n",
            "Requirement already satisfied: MarkupSafe>=0.23 in /usr/local/lib/python3.6/dist-packages (from Jinja2>=2.10.1->flask) (1.1.1)\n",
            "Building wheels for collected packages: flask-uploads\n",
            "  Building wheel for flask-uploads (setup.py) ... \u001b[?25l\u001b[?25hdone\n",
            "  Created wheel for flask-uploads: filename=Flask_Uploads-0.2.1-cp36-none-any.whl size=8068 sha256=7234bf71daad96d1bfbafa13898e190c4890d4067f5627ab8685ce9d1cf52916\n",
            "  Stored in directory: /root/.cache/pip/wheels/af/41/f6/0c357a43a5680e7690ce50337ab7fe9304795910ac10e15ce6\n",
            "Successfully built flask-uploads\n",
            "Installing collected packages: flask-uploads, flask-dropzone\n",
            "Successfully installed flask-dropzone-1.5.4 flask-uploads-0.2.1\n"
          ],
          "name": "stdout"
        }
      ]
    },
    {
      "cell_type": "code",
      "metadata": {
        "id": "B3VrRMTyQX7B",
        "colab": {
          "base_uri": "https://localhost:8080/",
          "height": 516
        },
        "outputId": "d8e4b207-0925-41ba-82d1-49ae715a4ed2"
      },
      "source": [
        "  \n",
        "from flask import Flask, redirect, render_template, request, session, url_for\n",
        "from flask_dropzone import Dropzone\n",
        "from flask_uploads import UploadSet, configure_uploads, IMAGES, patch_request_class\n",
        "\n",
        "import os\n",
        "\n",
        "app = Flask(__name__)\n",
        "#run_with_ngrok(app)\n",
        "dropzone = Dropzone(app)\n",
        "\n",
        "\n",
        "app.config['SECRET_KEY'] = 'supersecretkeygoeshere'\n",
        "\n",
        "# Dropzone settings\n",
        "app.config['DROPZONE_UPLOAD_MULTIPLE'] = True\n",
        "app.config['DROPZONE_ALLOWED_FILE_CUSTOM'] = True\n",
        "app.config['DROPZONE_ALLOWED_FILE_TYPE'] = 'image/*'\n",
        "app.config['DROPZONE_REDIRECT_VIEW'] = 'results'\n",
        "\n",
        "# Uploads settings\n",
        "app.config['UPLOADED_PHOTOS_DEST'] = os.getcwd() + '/uploads'\n",
        "\n",
        "photos = UploadSet('photos', IMAGES)\n",
        "configure_uploads(app, photos)\n",
        "patch_request_class(app)  # set maximum file size, default is 16MB\n",
        "\n",
        "\n",
        "@app.route('/', methods=['GET', 'POST'])\n",
        "def index():\n",
        "    \n",
        "    # set session for image results\n",
        "    if \"file_urls\" not in session:\n",
        "        session['file_urls'] = []\n",
        "    # list to hold our uploaded image urls\n",
        "    file_urls = session['file_urls']\n",
        "\n",
        "    # handle image upload from Dropszone\n",
        "    if request.method == 'POST':\n",
        "        file_obj = request.files\n",
        "        for f in file_obj:\n",
        "            file = request.files.get(f)\n",
        "            \n",
        "            # save the file with to our photos folder\n",
        "            filename = photos.save(\n",
        "                file,\n",
        "                name=file.filename    \n",
        "            )\n",
        "\n",
        "            # append image urls\n",
        "            file_urls.append(photos.url(filename))\n",
        "            \n",
        "        session['file_urls'] = file_urls\n",
        "        return \"uploading...\"\n",
        "    # return dropzone template on GET request    \n",
        "    return render_template('index.html')\n",
        "\n",
        "\n",
        "@app.route('/results')\n",
        "def results():\n",
        "    \n",
        "    # redirect to home if no images to display\n",
        "    if \"file_urls\" not in session or session['file_urls'] == []:\n",
        "        return redirect(url_for('index'))\n",
        "        \n",
        "    # set the file_urls and remove the session variable\n",
        "    file_urls = session['file_urls']\n",
        "    session.pop('file_urls', None)\n",
        "    \n",
        "    return render_template('results.html', file_urls=file_urls)"
      ],
      "execution_count": null,
      "outputs": [
        {
          "output_type": "error",
          "ename": "ImportError",
          "evalue": "ignored",
          "traceback": [
            "\u001b[0;31m---------------------------------------------------------------------------\u001b[0m",
            "\u001b[0;31mImportError\u001b[0m                               Traceback (most recent call last)",
            "\u001b[0;32m<ipython-input-19-e1d1e8a551bc>\u001b[0m in \u001b[0;36m<module>\u001b[0;34m()\u001b[0m\n\u001b[1;32m      2\u001b[0m \u001b[0;32mfrom\u001b[0m \u001b[0mflask\u001b[0m \u001b[0;32mimport\u001b[0m \u001b[0mFlask\u001b[0m\u001b[0;34m,\u001b[0m \u001b[0mredirect\u001b[0m\u001b[0;34m,\u001b[0m \u001b[0mrender_template\u001b[0m\u001b[0;34m,\u001b[0m \u001b[0mrequest\u001b[0m\u001b[0;34m,\u001b[0m \u001b[0msession\u001b[0m\u001b[0;34m,\u001b[0m \u001b[0murl_for\u001b[0m\u001b[0;34m\u001b[0m\u001b[0;34m\u001b[0m\u001b[0m\n\u001b[1;32m      3\u001b[0m \u001b[0;32mfrom\u001b[0m \u001b[0mflask_dropzone\u001b[0m \u001b[0;32mimport\u001b[0m \u001b[0mDropzone\u001b[0m\u001b[0;34m\u001b[0m\u001b[0;34m\u001b[0m\u001b[0m\n\u001b[0;32m----> 4\u001b[0;31m \u001b[0;32mfrom\u001b[0m \u001b[0mflask_uploads\u001b[0m \u001b[0;32mimport\u001b[0m \u001b[0mUploadSet\u001b[0m\u001b[0;34m,\u001b[0m \u001b[0mconfigure_uploads\u001b[0m\u001b[0;34m,\u001b[0m \u001b[0mIMAGES\u001b[0m\u001b[0;34m,\u001b[0m \u001b[0mpatch_request_class\u001b[0m\u001b[0;34m\u001b[0m\u001b[0;34m\u001b[0m\u001b[0m\n\u001b[0m\u001b[1;32m      5\u001b[0m \u001b[0;34m\u001b[0m\u001b[0m\n\u001b[1;32m      6\u001b[0m \u001b[0;32mimport\u001b[0m \u001b[0mos\u001b[0m\u001b[0;34m\u001b[0m\u001b[0;34m\u001b[0m\u001b[0m\n",
            "\u001b[0;32m/usr/local/lib/python3.6/dist-packages/flask_uploads.py\u001b[0m in \u001b[0;36m<module>\u001b[0;34m()\u001b[0m\n\u001b[1;32m     24\u001b[0m \u001b[0;32mfrom\u001b[0m \u001b[0mflask\u001b[0m \u001b[0;32mimport\u001b[0m \u001b[0mcurrent_app\u001b[0m\u001b[0;34m,\u001b[0m \u001b[0msend_from_directory\u001b[0m\u001b[0;34m,\u001b[0m \u001b[0mabort\u001b[0m\u001b[0;34m,\u001b[0m \u001b[0murl_for\u001b[0m\u001b[0;34m\u001b[0m\u001b[0;34m\u001b[0m\u001b[0m\n\u001b[1;32m     25\u001b[0m \u001b[0;32mfrom\u001b[0m \u001b[0mitertools\u001b[0m \u001b[0;32mimport\u001b[0m \u001b[0mchain\u001b[0m\u001b[0;34m\u001b[0m\u001b[0;34m\u001b[0m\u001b[0m\n\u001b[0;32m---> 26\u001b[0;31m \u001b[0;32mfrom\u001b[0m \u001b[0mwerkzeug\u001b[0m \u001b[0;32mimport\u001b[0m \u001b[0msecure_filename\u001b[0m\u001b[0;34m,\u001b[0m \u001b[0mFileStorage\u001b[0m\u001b[0;34m\u001b[0m\u001b[0;34m\u001b[0m\u001b[0m\n\u001b[0m\u001b[1;32m     27\u001b[0m \u001b[0;34m\u001b[0m\u001b[0m\n\u001b[1;32m     28\u001b[0m \u001b[0;32mfrom\u001b[0m \u001b[0mflask\u001b[0m \u001b[0;32mimport\u001b[0m \u001b[0mBlueprint\u001b[0m\u001b[0;34m\u001b[0m\u001b[0;34m\u001b[0m\u001b[0m\n",
            "\u001b[0;31mImportError\u001b[0m: cannot import name 'secure_filename'",
            "",
            "\u001b[0;31m---------------------------------------------------------------------------\u001b[0;32m\nNOTE: If your import is failing due to a missing package, you can\nmanually install dependencies using either !pip or !apt.\n\nTo view examples of installing some common dependencies, click the\n\"Open Examples\" button below.\n\u001b[0;31m---------------------------------------------------------------------------\u001b[0m\n"
          ]
        }
      ]
    },
    {
      "cell_type": "code",
      "metadata": {
        "id": "A0e1WtfUHP_F",
        "colab": {
          "base_uri": "https://localhost:8080/",
          "height": 35
        },
        "outputId": "07879264-8927-4791-be7e-5d3cf623f599"
      },
      "source": [
        "ALLOWED_EXTENSIONS = ['mp']\n",
        "def allowed_file(filename):\n",
        "    return '.' in filename and \\\n",
        "           filename.rsplit('.', 1)[1].lower() in ALLOWED_EXTENSIONS\n",
        "filename=('rk.mp')\n",
        "filename.rsplit('.', 1)[1].lower()"
      ],
      "execution_count": null,
      "outputs": [
        {
          "output_type": "execute_result",
          "data": {
            "application/vnd.google.colaboratory.intrinsic+json": {
              "type": "string"
            },
            "text/plain": [
              "'mp'"
            ]
          },
          "metadata": {
            "tags": []
          },
          "execution_count": 4
        }
      ]
    },
    {
      "cell_type": "code",
      "metadata": {
        "id": "RXT3jn-uRvJT",
        "colab": {
          "base_uri": "https://localhost:8080/",
          "height": 35
        },
        "outputId": "225ab241-2d0a-4e84-c75f-97c905565fa1"
      },
      "source": [
        "cd /content/"
      ],
      "execution_count": null,
      "outputs": [
        {
          "output_type": "stream",
          "text": [
            "/content\n"
          ],
          "name": "stdout"
        }
      ]
    },
    {
      "cell_type": "code",
      "metadata": {
        "id": "3WkkSpy4JFV-",
        "colab": {
          "base_uri": "https://localhost:8080/",
          "height": 335
        },
        "outputId": "f1eb36d0-715d-4177-c989-c9591b1e5810"
      },
      "source": [
        "\n",
        "path='/content/Attendancevideo_20200825_181616.mp4'\n",
        "v_cap = cv2.VideoCapture('Attendancevideo_20200825_181616.mp4')\n",
        "v_len = int(v_cap.get(cv2.CAP_PROP_FRAME_COUNT))\n",
        "a=0\n",
        "# Loop through video\n",
        "batch_size = 16\n",
        "frames = []\n",
        "faces = []\n",
        "video_ls=[]\n",
        "cont=User.query.all()\n",
        "detector = MTCNN(min_face_size=200)\n",
        "# detect faces in the image\n",
        "for i in tqdm(range(v_len)):\n",
        "    \n",
        "    # Load frame\n",
        "    success, frame = v_cap.read()\n",
        "    if not success:\n",
        "        continue\n",
        "        \n",
        "    # Add to batch\n",
        "    img = cv2.cvtColor(frame, cv2.COLOR_BGR2RGB)\n",
        "    \n",
        "    # When batch is full, detect faces and reset batch list\n",
        "    results = detector.detect(img)\n",
        "    if len(results)>0:\n",
        "              for i in range(len(results[0])):\n",
        "                extract_face(img, results[0][i], save_path='group/detected_face_stu_vid_{}.png'.format(i))\n",
        "                full_size_image = cv2.imread('group/detected_face_stu_vid_{}.png'.format(i))\n",
        "                gray=cv2.cvtColor(full_size_image,cv2.COLOR_BGR2GRAY)\n",
        "                #detecting faces\n",
        "                for (x, y, w, h) in  results[0]:\n",
        "                        roi_gray = gray[int(y):int(h), int(x):int(w)]\n",
        "                        cropped_img = np.expand_dims(np.expand_dims(cv2.resize(gray, (48, 48)), -1), 0)\n",
        "                        cv2.normalize(cropped_img, cropped_img, alpha=0, beta=1, norm_type=cv2.NORM_L2, dtype=cv2.CV_32F)\n",
        "                        #predicting the emotion\n",
        "                        yhat= loaded_model.predict(cropped_img)\n",
        "                #emotion.append(labels[int(np.argmax(yhat))])\n",
        "                fi = Image.open('group/detected_face_stu_vid_{}.png'.format(i))\n",
        "                try:\n",
        "                  img_cropped = mtcnn(fi)\n",
        "                  img_embedding = resnet(img_cropped.unsqueeze(0)).detach().numpy()[0]\n",
        "                  for j in cont:\n",
        "                    vec=(np.frombuffer(bytes.fromhex(j.emb),dtype=np.float32))\n",
        "                    if cosine(img_embedding, vec)<0.45:\n",
        "                      video_ls.append((j.username,labels[int(np.argmax(yhat))],cosine(img_embedding, vec),i))\n",
        "                      a+=1\n",
        "                except:\n",
        "                    pass\n",
        "if a>0:\n",
        "  mob_name=[]\n",
        "  mob_emotion=[]\n",
        "  video_ls.sort(key = lambda x:x[2])\n",
        "  for i in video_ls:\n",
        "    if i[0] not in mob_name:\n",
        "      mob_name.append(i[0])\n",
        "      mob_emotion.append(i[1])\n",
        "  print({'names':mob_name,'emotion':mob_emotion})"
      ],
      "execution_count": null,
      "outputs": [
        {
          "output_type": "stream",
          "text": [
            "\n",
            "\n",
            "\n",
            "  0%|          | 0/46 [00:00<?, ?it/s]\n"
          ],
          "name": "stderr"
        },
        {
          "output_type": "error",
          "ename": "TypeError",
          "evalue": "ignored",
          "traceback": [
            "\u001b[0;31m---------------------------------------------------------------------------\u001b[0m",
            "\u001b[0;31mTypeError\u001b[0m                                 Traceback (most recent call last)",
            "\u001b[0;32m<ipython-input-97-c02a57bb14d3>\u001b[0m in \u001b[0;36m<module>\u001b[0;34m()\u001b[0m\n\u001b[1;32m     25\u001b[0m     \u001b[0mresults\u001b[0m \u001b[0;34m=\u001b[0m \u001b[0mdetector\u001b[0m\u001b[0;34m.\u001b[0m\u001b[0mdetect\u001b[0m\u001b[0;34m(\u001b[0m\u001b[0mimg\u001b[0m\u001b[0;34m)\u001b[0m\u001b[0;34m\u001b[0m\u001b[0;34m\u001b[0m\u001b[0m\n\u001b[1;32m     26\u001b[0m     \u001b[0;32mif\u001b[0m \u001b[0mlen\u001b[0m\u001b[0;34m(\u001b[0m\u001b[0mresults\u001b[0m\u001b[0;34m)\u001b[0m\u001b[0;34m>\u001b[0m\u001b[0;36m0\u001b[0m\u001b[0;34m:\u001b[0m\u001b[0;34m\u001b[0m\u001b[0;34m\u001b[0m\u001b[0m\n\u001b[0;32m---> 27\u001b[0;31m               \u001b[0;32mfor\u001b[0m \u001b[0mi\u001b[0m \u001b[0;32min\u001b[0m \u001b[0mrange\u001b[0m\u001b[0;34m(\u001b[0m\u001b[0mlen\u001b[0m\u001b[0;34m(\u001b[0m\u001b[0mresults\u001b[0m\u001b[0;34m[\u001b[0m\u001b[0;36m0\u001b[0m\u001b[0;34m]\u001b[0m\u001b[0;34m)\u001b[0m\u001b[0;34m)\u001b[0m\u001b[0;34m:\u001b[0m\u001b[0;34m\u001b[0m\u001b[0;34m\u001b[0m\u001b[0m\n\u001b[0m\u001b[1;32m     28\u001b[0m                 \u001b[0mextract_face\u001b[0m\u001b[0;34m(\u001b[0m\u001b[0mimg\u001b[0m\u001b[0;34m,\u001b[0m \u001b[0mresults\u001b[0m\u001b[0;34m[\u001b[0m\u001b[0;36m0\u001b[0m\u001b[0;34m]\u001b[0m\u001b[0;34m[\u001b[0m\u001b[0mi\u001b[0m\u001b[0;34m]\u001b[0m\u001b[0;34m,\u001b[0m \u001b[0msave_path\u001b[0m\u001b[0;34m=\u001b[0m\u001b[0;34m'group/detected_face_stu_vid_{}.png'\u001b[0m\u001b[0;34m.\u001b[0m\u001b[0mformat\u001b[0m\u001b[0;34m(\u001b[0m\u001b[0mi\u001b[0m\u001b[0;34m)\u001b[0m\u001b[0;34m)\u001b[0m\u001b[0;34m\u001b[0m\u001b[0;34m\u001b[0m\u001b[0m\n\u001b[1;32m     29\u001b[0m                 \u001b[0mfull_size_image\u001b[0m \u001b[0;34m=\u001b[0m \u001b[0mcv2\u001b[0m\u001b[0;34m.\u001b[0m\u001b[0mimread\u001b[0m\u001b[0;34m(\u001b[0m\u001b[0;34m'group/detected_face_stu_vid_{}.png'\u001b[0m\u001b[0;34m.\u001b[0m\u001b[0mformat\u001b[0m\u001b[0;34m(\u001b[0m\u001b[0mi\u001b[0m\u001b[0;34m)\u001b[0m\u001b[0;34m)\u001b[0m\u001b[0;34m\u001b[0m\u001b[0;34m\u001b[0m\u001b[0m\n",
            "\u001b[0;31mTypeError\u001b[0m: object of type 'NoneType' has no len()"
          ]
        }
      ]
    },
    {
      "cell_type": "code",
      "metadata": {
        "id": "DgL9VOcQQzMl",
        "colab": {
          "base_uri": "https://localhost:8080/",
          "height": 1000
        },
        "outputId": "53dbc4aa-2421-4f17-b32d-b641f44693d9"
      },
      "source": [
        "video_ls"
      ],
      "execution_count": null,
      "outputs": [
        {
          "output_type": "execute_result",
          "data": {
            "text/plain": [
              "[('rohan', 'Neutral', 0.24226510524749756, 0),\n",
              " ('rohan', 'Happy', 0.2348039150238037, 0),\n",
              " ('rohan', 'Neutral', 0.25592881441116333, 0),\n",
              " ('rohan', 'Neutral', 0.23438429832458496, 0),\n",
              " ('rohan', 'Neutral', 0.2427973747253418, 0),\n",
              " ('rohan', 'Neutral', 0.23211044073104858, 0),\n",
              " ('rohan', 'Neutral', 0.2277495265007019, 0),\n",
              " ('rohan', 'Neutral', 0.23058819770812988, 0),\n",
              " ('rohan', 'Neutral', 0.22630006074905396, 0),\n",
              " ('rohan', 'Neutral', 0.2592211365699768, 0),\n",
              " ('rohan', 'Neutral', 0.2226090431213379, 0),\n",
              " ('rohan', 'Neutral', 0.24656546115875244, 0),\n",
              " ('rohan', 'Neutral', 0.24557149410247803, 0),\n",
              " ('rohan', 'Neutral', 0.23086875677108765, 0),\n",
              " ('rohan', 'Neutral', 0.2392643690109253, 0),\n",
              " ('rohan', 'Neutral', 0.23021602630615234, 0),\n",
              " ('rohan', 'Neutral', 0.2549723982810974, 0),\n",
              " ('rohan', 'Surprise', 0.25198453664779663, 0),\n",
              " ('rohan', 'Happy', 0.2202933430671692, 0),\n",
              " ('rohan', 'Neutral', 0.2261507511138916, 0),\n",
              " ('rohan', 'Happy', 0.2228265404701233, 0),\n",
              " ('rohan', 'Neutral', 0.23808002471923828, 0),\n",
              " ('rohan', 'Happy', 0.2255370020866394, 0),\n",
              " ('rohan', 'Happy', 0.22319108247756958, 0),\n",
              " ('rohan', 'Neutral', 0.23501074314117432, 0),\n",
              " ('rohan', 'Neutral', 0.2621607184410095, 0),\n",
              " ('rohan', 'Sad', 0.24648511409759521, 0),\n",
              " ('rohan', 'Neutral', 0.2506292462348938, 0),\n",
              " ('rohan', 'Neutral', 0.23819375038146973, 0),\n",
              " ('rohan', 'Neutral', 0.2636067271232605, 0),\n",
              " ('rohan', 'Neutral', 0.2622022032737732, 0),\n",
              " ('rohan', 'Neutral', 0.24714326858520508, 0),\n",
              " ('rohan', 'Neutral', 0.2586144208908081, 0),\n",
              " ('rohan', 'Happy', 0.2686517834663391, 0),\n",
              " ('rohan', 'Sad', 0.2698433995246887, 0),\n",
              " ('rohan', 'Neutral', 0.2644420862197876, 0),\n",
              " ('rohan', 'Neutral', 0.2257077693939209, 0),\n",
              " ('rohan', 'Neutral', 0.23389363288879395, 0),\n",
              " ('rohan', 'Neutral', 0.24585014581680298, 0),\n",
              " ('rohan', 'Neutral', 0.23894035816192627, 0),\n",
              " ('rohan', 'Surprise', 0.2428828477859497, 0),\n",
              " ('rohan', 'Neutral', 0.2444298267364502, 0),\n",
              " ('rohan', 'Neutral', 0.23598623275756836, 0),\n",
              " ('rohan', 'Neutral', 0.23753982782363892, 0),\n",
              " ('rohan', 'Neutral', 0.24792492389678955, 0),\n",
              " ('rohan', 'Neutral', 0.25980859994888306, 0),\n",
              " ('rohan', 'Neutral', 0.26653140783309937, 0),\n",
              " ('rohan', 'Neutral', 0.2416124939918518, 0),\n",
              " ('rohan', 'Neutral', 0.24099111557006836, 0),\n",
              " ('rohan', 'Neutral', 0.2362837791442871, 0),\n",
              " ('rohan', 'Neutral', 0.25209373235702515, 0),\n",
              " ('rohan', 'Neutral', 0.25348901748657227, 0),\n",
              " ('rohan', 'Neutral', 0.25666993856430054, 0),\n",
              " ('rohan', 'Neutral', 0.25415295362472534, 0),\n",
              " ('rohan', 'Neutral', 0.2358456254005432, 0),\n",
              " ('rohan', 'Neutral', 0.2751427888870239, 0),\n",
              " ('rohan', 'Happy', 0.24837565422058105, 0),\n",
              " ('rohan', 'Neutral', 0.23359346389770508, 0),\n",
              " ('rohan', 'Neutral', 0.3049998879432678, 0),\n",
              " ('rohan', 'Neutral', 0.24636167287826538, 0),\n",
              " ('rohan', 'Neutral', 0.25462210178375244, 0)]"
            ]
          },
          "metadata": {
            "tags": []
          },
          "execution_count": 68
        }
      ]
    },
    {
      "cell_type": "code",
      "metadata": {
        "id": "d_o-4Feigy4_",
        "colab": {
          "base_uri": "https://localhost:8080/",
          "height": 35
        },
        "outputId": "320fc9a3-ae93-4ea1-dd99-137af778611e"
      },
      "source": [
        "mob_name=[]\n",
        "mob_emotion=[]\n",
        "video_ls.sort(key = lambda x:x[2])\n",
        "for i in video_ls:\n",
        "  if i[0] not in mob_name:\n",
        "    mob_name.append(i[0])\n",
        "    mob_emotion.append(i[1])\n",
        "print({'names':mob_name,'emotion':mob_emotion})"
      ],
      "execution_count": null,
      "outputs": [
        {
          "output_type": "stream",
          "text": [
            "{'names': ['rohan'], 'emotion': ['Happy']}\n"
          ],
          "name": "stdout"
        }
      ]
    },
    {
      "cell_type": "code",
      "metadata": {
        "id": "IRYYqDmoLL9S"
      },
      "source": [
        "<meta name=\"viewport\" content=\"width=device-width, initial-scale=1\">\n",
        "<meta name=\"viewport\" content=\"width=device-width, initial-scale=1.0\">\n"
      ],
      "execution_count": null,
      "outputs": []
    },
    {
      "cell_type": "code",
      "metadata": {
        "id": "9lvgBLcY70j4"
      },
      "source": [
        "@app.route('/upload', methods=['GET', 'POST'])\n",
        "def Attendencee_upload():\n",
        "    if request.method == 'POST':\n",
        "        # check if the post request has the file part\n",
        "        if 'file' not in request.files:\n",
        "            flash('No file part')\n",
        "            return redirect(request.url)\n",
        "        file = request.files['file']\n",
        "        # if user does not select file, browser also\n",
        "        # submit an empty part without filename\n",
        "        if file.filename == '':\n",
        "            flash('No selected file')\n",
        "            return redirect(request.url)\n",
        "        if file and allowed_file(file.filename):\n",
        "          #--your-code--\n",
        "        else:\n",
        "          #--\n",
        "      else:\n",
        "        #--\n",
        "    return  render_template('upload.html')"
      ],
      "execution_count": null,
      "outputs": []
    },
    {
      "cell_type": "code",
      "metadata": {
        "colab": {
          "base_uri": "https://localhost:8080/"
        },
        "id": "bmwKwXBrt0AE",
        "outputId": "dfe8c2d4-ff47-4f4b-c74a-73061155be67"
      },
      "source": [
        "name='rohan'\r\n",
        "print(name[::-1])"
      ],
      "execution_count": null,
      "outputs": [
        {
          "output_type": "stream",
          "text": [
            "nahor\n"
          ],
          "name": "stdout"
        }
      ]
    },
    {
      "cell_type": "code",
      "metadata": {
        "colab": {
          "base_uri": "https://localhost:8080/"
        },
        "id": "QB0yplOtt3wL",
        "outputId": "4c70fffd-7b66-4c5d-d300-5bc63a7f4b09"
      },
      "source": [
        "x=0\r\n",
        "lis=[1,2,3,4,5,3,4,2,4,6,4,7,4,8,11,2,3,4,3]\r\n",
        "for i in lis:\r\n",
        "  if x<i:\r\n",
        "    x=i\r\n",
        "print(x)"
      ],
      "execution_count": null,
      "outputs": [
        {
          "output_type": "stream",
          "text": [
            "11\n"
          ],
          "name": "stdout"
        }
      ]
    },
    {
      "cell_type": "code",
      "metadata": {
        "id": "vx3LzERBwGIf"
      },
      "source": [
        ""
      ],
      "execution_count": null,
      "outputs": []
    }
  ]
}